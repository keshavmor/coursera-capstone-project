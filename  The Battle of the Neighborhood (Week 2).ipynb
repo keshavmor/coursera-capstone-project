{
    "cells": [
        {
            "cell_type": "markdown",
            "metadata": {
                "button": false,
                "new_sheet": false,
                "run_control": {
                    "read_only": false
                }
            },
            "source": "<a href=\"https://cognitiveclass.ai\"><img src = \"https://ibm.box.com/shared/static/9gegpsmnsoo25ikkbl4qzlvlyjbgxs5x.png\" width = 400> </a>\n\n<h1 align=center><font size = 5>Learning FourSquare API with Python</font></h1>"
        },
        {
            "cell_type": "markdown",
            "metadata": {
                "button": false,
                "new_sheet": false,
                "run_control": {
                    "read_only": false
                }
            },
            "source": "   "
        },
        {
            "cell_type": "markdown",
            "metadata": {
                "button": false,
                "new_sheet": false,
                "run_control": {
                    "read_only": false
                }
            },
            "source": "## Introduction\n\nIn this lab, you will learn in details how to make calls to the Foursquare API for different purposes. You will learn how to construct a URL to send a request to the API to search for a specific type of venues, to explore a particular venue, to explore a Foursquare user, to explore a geographical location, and to get trending venues around a location. Also, you will learn how to use the visualization library, Folium, to visualize the results."
        },
        {
            "cell_type": "markdown",
            "metadata": {
                "button": false,
                "new_sheet": false,
                "run_control": {
                    "read_only": false
                }
            },
            "source": "## Table of Contents\n\n1. <a href=\"#item1\">Foursquare API Search Function</a>\n2. <a href=\"#item2\">Explore a Given Venue</a>  \n3. <a href=\"#item3\">Explore a User</a>  \n4. <a href=\"#item4\">Foursquare API Explore Function</a>  \n5. <a href=\"#item5\">Get Trending Venues</a>  "
        },
        {
            "cell_type": "markdown",
            "metadata": {
                "button": false,
                "new_sheet": false,
                "run_control": {
                    "read_only": false
                }
            },
            "source": "### Import necessary Libraries"
        },
        {
            "cell_type": "code",
            "execution_count": 3,
            "metadata": {
                "button": false,
                "jupyter": {
                    "outputs_hidden": false
                },
                "new_sheet": false,
                "run_control": {
                    "read_only": false
                }
            },
            "outputs": [
                {
                    "name": "stdout",
                    "output_type": "stream",
                    "text": "Folium installed\nLibraries imported.\n"
                }
            ],
            "source": "import requests # library to handle requests\nimport pandas as pd # library for data analsysis\nimport numpy as np # library to handle data in a vectorized manner\nimport random # library for random number generation\n\n#!conda install -c conda-forge geopy --yes \nfrom geopy.geocoders import Nominatim # module to convert an address into latitude and longitude values\n\n# libraries for displaying images\nfrom IPython.display import Image \nfrom IPython.core.display import HTML \n    \n\n#!conda install -c conda-forge folium=0.5.0 --yes\nimport folium # plotting library\n\nprint('Folium installed')\nprint('Libraries imported.')"
        },
        {
            "cell_type": "code",
            "execution_count": 17,
            "metadata": {},
            "outputs": [],
            "source": "from pandas.io.json import json_normalize"
        },
        {
            "cell_type": "markdown",
            "metadata": {
                "button": false,
                "new_sheet": false,
                "run_control": {
                    "read_only": false
                }
            },
            "source": "### Define Foursquare Credentials and Version"
        },
        {
            "cell_type": "markdown",
            "metadata": {
                "button": false,
                "new_sheet": false,
                "run_control": {
                    "read_only": false
                }
            },
            "source": "##### Make sure that you have created a Foursquare developer account and have your credentials handy"
        },
        {
            "cell_type": "code",
            "execution_count": 1,
            "metadata": {
                "button": false,
                "jupyter": {
                    "outputs_hidden": false
                },
                "new_sheet": false,
                "run_control": {
                    "read_only": false
                }
            },
            "outputs": [
                {
                    "name": "stdout",
                    "output_type": "stream",
                    "text": "Your credentails:\nCLIENT_ID: OYNEO4YYLV5NRHJLCWAP0MXEGIWF5ELB0Q231ZG3MJTZ2ZZF\nCLIENT_SECRET:B2A4ZW0ZVUAPSRRMCMDWEQUN3AKU4ZEN0YBSGQCIMXP5ASQI\n"
                }
            ],
            "source": "CLIENT_ID = 'OYNEO4YYLV5NRHJLCWAP0MXEGIWF5ELB0Q231ZG3MJTZ2ZZF' # your Foursquare ID\nCLIENT_SECRET = 'B2A4ZW0ZVUAPSRRMCMDWEQUN3AKU4ZEN0YBSGQCIMXP5ASQI' # your Foursquare Secret\nVERSION = '20191118'\nLIMIT = 30\nprint('Your credentails:')\nprint('CLIENT_ID: ' + CLIENT_ID)\nprint('CLIENT_SECRET:' + CLIENT_SECRET)"
        },
        {
            "cell_type": "markdown",
            "metadata": {
                "button": false,
                "new_sheet": false,
                "run_control": {
                    "read_only": false
                }
            },
            "source": "  "
        },
        {
            "cell_type": "markdown",
            "metadata": {
                "button": false,
                "new_sheet": false,
                "run_control": {
                    "read_only": false
                }
            },
            "source": "#### Let's again assume that you are staying at the Conrad hotel. So let's start by converting the Contrad Hotel's address to its latitude and longitude coordinates."
        },
        {
            "cell_type": "markdown",
            "metadata": {},
            "source": "In order to define an instance of the geocoder, we need to define a user_agent. We will name our agent <em>foursquare_agent</em>, as shown below."
        },
        {
            "cell_type": "code",
            "execution_count": 11,
            "metadata": {
                "button": false,
                "jupyter": {
                    "outputs_hidden": false
                },
                "new_sheet": false,
                "run_control": {
                    "read_only": false
                }
            },
            "outputs": [
                {
                    "name": "stdout",
                    "output_type": "stream",
                    "text": "40.7149555 -74.0153365\n"
                }
            ],
            "source": "address = '102 North End Ave, New York, NY'\n\ngeolocator = Nominatim(user_agent=\"foursquare_agent\")\nlocation = geolocator.geocode(address)\nlatitude = location.latitude\nlongitude = location.longitude\nprint(latitude, longitude)"
        },
        {
            "cell_type": "markdown",
            "metadata": {
                "button": false,
                "new_sheet": false,
                "run_control": {
                    "read_only": false
                }
            },
            "source": "   "
        },
        {
            "cell_type": "markdown",
            "metadata": {
                "button": false,
                "new_sheet": false,
                "run_control": {
                    "read_only": false
                }
            },
            "source": "<a id=\"item1\"></a>"
        },
        {
            "cell_type": "markdown",
            "metadata": {
                "button": false,
                "new_sheet": false,
                "run_control": {
                    "read_only": false
                }
            },
            "source": "## 1. Search for a specific venue category\n> `https://api.foursquare.com/v2/venues/`**search**`?client_id=`**CLIENT_ID**`&client_secret=`**CLIENT_SECRET**`&ll=`**LATITUDE**`,`**LONGITUDE**`&v=`**VERSION**`&query=`**QUERY**`&radius=`**RADIUS**`&limit=`**LIMIT**"
        },
        {
            "cell_type": "markdown",
            "metadata": {
                "button": false,
                "new_sheet": false,
                "run_control": {
                    "read_only": false
                }
            },
            "source": "#### Now, let's assume that it is lunch time, and you are craving Italian food. So, let's define a query to search for Italian food that is within 500 metres from the Conrad Hotel. "
        },
        {
            "cell_type": "code",
            "execution_count": 12,
            "metadata": {
                "button": false,
                "jupyter": {
                    "outputs_hidden": false
                },
                "new_sheet": false,
                "run_control": {
                    "read_only": false
                },
                "scrolled": true
            },
            "outputs": [
                {
                    "name": "stdout",
                    "output_type": "stream",
                    "text": "Italian .... OK!\n"
                }
            ],
            "source": "search_query = 'Italian'\nradius = 500\nprint(search_query + ' .... OK!')"
        },
        {
            "cell_type": "markdown",
            "metadata": {
                "button": false,
                "new_sheet": false,
                "run_control": {
                    "read_only": false
                }
            },
            "source": "#### Define the corresponding URL"
        },
        {
            "cell_type": "code",
            "execution_count": 13,
            "metadata": {
                "button": false,
                "jupyter": {
                    "outputs_hidden": false
                },
                "new_sheet": false,
                "run_control": {
                    "read_only": false
                }
            },
            "outputs": [
                {
                    "data": {
                        "text/plain": "'https://api.foursquare.com/v2/venues/search?client_id=OYNEO4YYLV5NRHJLCWAP0MXEGIWF5ELB0Q231ZG3MJTZ2ZZF&client_secret=B2A4ZW0ZVUAPSRRMCMDWEQUN3AKU4ZEN0YBSGQCIMXP5ASQI&ll=40.7149555,-74.0153365&v=20191118&query=Italian&radius=500&limit=30'"
                    },
                    "execution_count": 13,
                    "metadata": {},
                    "output_type": "execute_result"
                }
            ],
            "source": "url = 'https://api.foursquare.com/v2/venues/search?client_id={}&client_secret={}&ll={},{}&v={}&query={}&radius={}&limit={}'.format(CLIENT_ID, CLIENT_SECRET, latitude, longitude, VERSION, search_query, radius, LIMIT)\nurl"
        },
        {
            "cell_type": "markdown",
            "metadata": {
                "button": false,
                "new_sheet": false,
                "run_control": {
                    "read_only": false
                }
            },
            "source": "#### Send the GET Request and examine the results"
        },
        {
            "cell_type": "code",
            "execution_count": 14,
            "metadata": {
                "button": false,
                "jupyter": {
                    "outputs_hidden": false
                },
                "new_sheet": false,
                "run_control": {
                    "read_only": false
                },
                "scrolled": true
            },
            "outputs": [
                {
                    "data": {
                        "text/plain": "{'meta': {'code': 200, 'requestId': '5dd2d4da216785001c4cecd8'},\n 'response': {'venues': [{'id': '4fa862b3e4b0ebff2f749f06',\n    'name': \"Harry's Italian Pizza Bar\",\n    'location': {'address': '225 Murray St',\n     'lat': 40.71521779064671,\n     'lng': -74.01473940209351,\n     'labeledLatLngs': [{'label': 'display',\n       'lat': 40.71521779064671,\n       'lng': -74.01473940209351}],\n     'distance': 58,\n     'postalCode': '10282',\n     'cc': 'US',\n     'city': 'New York',\n     'state': 'NY',\n     'country': 'United States',\n     'formattedAddress': ['225 Murray St',\n      'New York, NY 10282',\n      'United States']},\n    'categories': [{'id': '4bf58dd8d48988d1ca941735',\n      'name': 'Pizza Place',\n      'pluralName': 'Pizza Places',\n      'shortName': 'Pizza',\n      'icon': {'prefix': 'https://ss3.4sqi.net/img/categories_v2/food/pizza_',\n       'suffix': '.png'},\n      'primary': True}],\n    'delivery': {'id': '294544',\n     'url': 'https://www.seamless.com/menu/harrys-italian-pizza-bar-225-murray-st-new-york/294544?affiliate=1131&utm_source=foursquare-affiliate-network&utm_medium=affiliate&utm_campaign=1131&utm_content=294544',\n     'provider': {'name': 'seamless',\n      'icon': {'prefix': 'https://fastly.4sqi.net/img/general/cap/',\n       'sizes': [40, 50],\n       'name': '/delivery_provider_seamless_20180129.png'}}},\n    'referralId': 'v-1574098139',\n    'hasPerk': False},\n   {'id': '4f3232e219836c91c7bfde94',\n    'name': 'Conca Cucina Italian Restaurant',\n    'location': {'address': '63 W Broadway',\n     'lat': 40.714484000000006,\n     'lng': -74.00980600000001,\n     'labeledLatLngs': [{'label': 'display',\n       'lat': 40.714484000000006,\n       'lng': -74.00980600000001}],\n     'distance': 469,\n     'postalCode': '10007',\n     'cc': 'US',\n     'city': 'New York',\n     'state': 'NY',\n     'country': 'United States',\n     'formattedAddress': ['63 W Broadway',\n      'New York, NY 10007',\n      'United States']},\n    'categories': [{'id': '4d4b7105d754a06374d81259',\n      'name': 'Food',\n      'pluralName': 'Food',\n      'shortName': 'Food',\n      'icon': {'prefix': 'https://ss3.4sqi.net/img/categories_v2/food/default_',\n       'suffix': '.png'},\n      'primary': True}],\n    'referralId': 'v-1574098139',\n    'hasPerk': False},\n   {'id': '3fd66200f964a520f4e41ee3',\n    'name': 'Ecco',\n    'location': {'address': '124 Chambers St',\n     'crossStreet': 'btwn Church St & W Broadway',\n     'lat': 40.71533713859952,\n     'lng': -74.00884766217825,\n     'labeledLatLngs': [{'label': 'display',\n       'lat': 40.71533713859952,\n       'lng': -74.00884766217825}],\n     'distance': 549,\n     'postalCode': '10007',\n     'cc': 'US',\n     'city': 'New York',\n     'state': 'NY',\n     'country': 'United States',\n     'formattedAddress': ['124 Chambers St (btwn Church St & W Broadway)',\n      'New York, NY 10007',\n      'United States']},\n    'categories': [{'id': '4bf58dd8d48988d110941735',\n      'name': 'Italian Restaurant',\n      'pluralName': 'Italian Restaurants',\n      'shortName': 'Italian',\n      'icon': {'prefix': 'https://ss3.4sqi.net/img/categories_v2/food/italian_',\n       'suffix': '.png'},\n      'primary': True}],\n    'referralId': 'v-1574098139',\n    'hasPerk': False}]}}"
                    },
                    "execution_count": 14,
                    "metadata": {},
                    "output_type": "execute_result"
                }
            ],
            "source": "results = requests.get(url).json()\nresults"
        },
        {
            "cell_type": "markdown",
            "metadata": {
                "button": false,
                "new_sheet": false,
                "run_control": {
                    "read_only": false
                }
            },
            "source": "#### Get relevant part of JSON and transform it into a *pandas* dataframe"
        },
        {
            "cell_type": "code",
            "execution_count": 18,
            "metadata": {
                "button": false,
                "jupyter": {
                    "outputs_hidden": false
                },
                "new_sheet": false,
                "run_control": {
                    "read_only": false
                }
            },
            "outputs": [
                {
                    "data": {
                        "text/html": "<div>\n<style scoped>\n    .dataframe tbody tr th:only-of-type {\n        vertical-align: middle;\n    }\n\n    .dataframe tbody tr th {\n        vertical-align: top;\n    }\n\n    .dataframe thead th {\n        text-align: right;\n    }\n</style>\n<table border=\"1\" class=\"dataframe\">\n  <thead>\n    <tr style=\"text-align: right;\">\n      <th></th>\n      <th>categories</th>\n      <th>delivery.id</th>\n      <th>delivery.provider.icon.name</th>\n      <th>delivery.provider.icon.prefix</th>\n      <th>delivery.provider.icon.sizes</th>\n      <th>delivery.provider.name</th>\n      <th>delivery.url</th>\n      <th>hasPerk</th>\n      <th>id</th>\n      <th>location.address</th>\n      <th>...</th>\n      <th>location.crossStreet</th>\n      <th>location.distance</th>\n      <th>location.formattedAddress</th>\n      <th>location.labeledLatLngs</th>\n      <th>location.lat</th>\n      <th>location.lng</th>\n      <th>location.postalCode</th>\n      <th>location.state</th>\n      <th>name</th>\n      <th>referralId</th>\n    </tr>\n  </thead>\n  <tbody>\n    <tr>\n      <th>0</th>\n      <td>[{'id': '4bf58dd8d48988d1ca941735', 'name': 'P...</td>\n      <td>294544</td>\n      <td>/delivery_provider_seamless_20180129.png</td>\n      <td>https://fastly.4sqi.net/img/general/cap/</td>\n      <td>[40, 50]</td>\n      <td>seamless</td>\n      <td>https://www.seamless.com/menu/harrys-italian-p...</td>\n      <td>False</td>\n      <td>4fa862b3e4b0ebff2f749f06</td>\n      <td>225 Murray St</td>\n      <td>...</td>\n      <td>NaN</td>\n      <td>58</td>\n      <td>[225 Murray St, New York, NY 10282, United Sta...</td>\n      <td>[{'label': 'display', 'lat': 40.71521779064671...</td>\n      <td>40.715218</td>\n      <td>-74.014739</td>\n      <td>10282</td>\n      <td>NY</td>\n      <td>Harry's Italian Pizza Bar</td>\n      <td>v-1574098139</td>\n    </tr>\n    <tr>\n      <th>1</th>\n      <td>[{'id': '4d4b7105d754a06374d81259', 'name': 'F...</td>\n      <td>NaN</td>\n      <td>NaN</td>\n      <td>NaN</td>\n      <td>NaN</td>\n      <td>NaN</td>\n      <td>NaN</td>\n      <td>False</td>\n      <td>4f3232e219836c91c7bfde94</td>\n      <td>63 W Broadway</td>\n      <td>...</td>\n      <td>NaN</td>\n      <td>469</td>\n      <td>[63 W Broadway, New York, NY 10007, United Sta...</td>\n      <td>[{'label': 'display', 'lat': 40.71448400000000...</td>\n      <td>40.714484</td>\n      <td>-74.009806</td>\n      <td>10007</td>\n      <td>NY</td>\n      <td>Conca Cucina Italian Restaurant</td>\n      <td>v-1574098139</td>\n    </tr>\n    <tr>\n      <th>2</th>\n      <td>[{'id': '4bf58dd8d48988d110941735', 'name': 'I...</td>\n      <td>NaN</td>\n      <td>NaN</td>\n      <td>NaN</td>\n      <td>NaN</td>\n      <td>NaN</td>\n      <td>NaN</td>\n      <td>False</td>\n      <td>3fd66200f964a520f4e41ee3</td>\n      <td>124 Chambers St</td>\n      <td>...</td>\n      <td>btwn Church St &amp; W Broadway</td>\n      <td>549</td>\n      <td>[124 Chambers St (btwn Church St &amp; W Broadway)...</td>\n      <td>[{'label': 'display', 'lat': 40.71533713859952...</td>\n      <td>40.715337</td>\n      <td>-74.008848</td>\n      <td>10007</td>\n      <td>NY</td>\n      <td>Ecco</td>\n      <td>v-1574098139</td>\n    </tr>\n  </tbody>\n</table>\n<p>3 rows \u00d7 23 columns</p>\n</div>",
                        "text/plain": "                                          categories delivery.id  \\\n0  [{'id': '4bf58dd8d48988d1ca941735', 'name': 'P...      294544   \n1  [{'id': '4d4b7105d754a06374d81259', 'name': 'F...         NaN   \n2  [{'id': '4bf58dd8d48988d110941735', 'name': 'I...         NaN   \n\n                delivery.provider.icon.name  \\\n0  /delivery_provider_seamless_20180129.png   \n1                                       NaN   \n2                                       NaN   \n\n              delivery.provider.icon.prefix delivery.provider.icon.sizes  \\\n0  https://fastly.4sqi.net/img/general/cap/                     [40, 50]   \n1                                       NaN                          NaN   \n2                                       NaN                          NaN   \n\n  delivery.provider.name                                       delivery.url  \\\n0               seamless  https://www.seamless.com/menu/harrys-italian-p...   \n1                    NaN                                                NaN   \n2                    NaN                                                NaN   \n\n   hasPerk                        id location.address  ...  \\\n0    False  4fa862b3e4b0ebff2f749f06    225 Murray St  ...   \n1    False  4f3232e219836c91c7bfde94    63 W Broadway  ...   \n2    False  3fd66200f964a520f4e41ee3  124 Chambers St  ...   \n\n          location.crossStreet location.distance  \\\n0                          NaN                58   \n1                          NaN               469   \n2  btwn Church St & W Broadway               549   \n\n                           location.formattedAddress  \\\n0  [225 Murray St, New York, NY 10282, United Sta...   \n1  [63 W Broadway, New York, NY 10007, United Sta...   \n2  [124 Chambers St (btwn Church St & W Broadway)...   \n\n                             location.labeledLatLngs  location.lat  \\\n0  [{'label': 'display', 'lat': 40.71521779064671...     40.715218   \n1  [{'label': 'display', 'lat': 40.71448400000000...     40.714484   \n2  [{'label': 'display', 'lat': 40.71533713859952...     40.715337   \n\n  location.lng location.postalCode  location.state  \\\n0   -74.014739               10282              NY   \n1   -74.009806               10007              NY   \n2   -74.008848               10007              NY   \n\n                              name    referralId  \n0        Harry's Italian Pizza Bar  v-1574098139  \n1  Conca Cucina Italian Restaurant  v-1574098139  \n2                             Ecco  v-1574098139  \n\n[3 rows x 23 columns]"
                    },
                    "execution_count": 18,
                    "metadata": {},
                    "output_type": "execute_result"
                }
            ],
            "source": "# assign relevant part of JSON to venues\nvenues = results['response']['venues']\n\n# tranform venues into a dataframe\ndataframe = json_normalize(venues)\ndataframe.head()"
        },
        {
            "cell_type": "markdown",
            "metadata": {
                "button": false,
                "new_sheet": false,
                "run_control": {
                    "read_only": false
                }
            },
            "source": "#### Define information of interest and filter dataframe"
        },
        {
            "cell_type": "code",
            "execution_count": 19,
            "metadata": {
                "button": false,
                "jupyter": {
                    "outputs_hidden": false
                },
                "new_sheet": false,
                "run_control": {
                    "read_only": false
                },
                "scrolled": true
            },
            "outputs": [
                {
                    "data": {
                        "text/html": "<div>\n<style scoped>\n    .dataframe tbody tr th:only-of-type {\n        vertical-align: middle;\n    }\n\n    .dataframe tbody tr th {\n        vertical-align: top;\n    }\n\n    .dataframe thead th {\n        text-align: right;\n    }\n</style>\n<table border=\"1\" class=\"dataframe\">\n  <thead>\n    <tr style=\"text-align: right;\">\n      <th></th>\n      <th>name</th>\n      <th>categories</th>\n      <th>address</th>\n      <th>cc</th>\n      <th>city</th>\n      <th>country</th>\n      <th>crossStreet</th>\n      <th>distance</th>\n      <th>formattedAddress</th>\n      <th>labeledLatLngs</th>\n      <th>lat</th>\n      <th>lng</th>\n      <th>postalCode</th>\n      <th>state</th>\n      <th>id</th>\n    </tr>\n  </thead>\n  <tbody>\n    <tr>\n      <th>0</th>\n      <td>Harry's Italian Pizza Bar</td>\n      <td>Pizza Place</td>\n      <td>225 Murray St</td>\n      <td>US</td>\n      <td>New York</td>\n      <td>United States</td>\n      <td>NaN</td>\n      <td>58</td>\n      <td>[225 Murray St, New York, NY 10282, United Sta...</td>\n      <td>[{'label': 'display', 'lat': 40.71521779064671...</td>\n      <td>40.715218</td>\n      <td>-74.014739</td>\n      <td>10282</td>\n      <td>NY</td>\n      <td>4fa862b3e4b0ebff2f749f06</td>\n    </tr>\n    <tr>\n      <th>1</th>\n      <td>Conca Cucina Italian Restaurant</td>\n      <td>Food</td>\n      <td>63 W Broadway</td>\n      <td>US</td>\n      <td>New York</td>\n      <td>United States</td>\n      <td>NaN</td>\n      <td>469</td>\n      <td>[63 W Broadway, New York, NY 10007, United Sta...</td>\n      <td>[{'label': 'display', 'lat': 40.71448400000000...</td>\n      <td>40.714484</td>\n      <td>-74.009806</td>\n      <td>10007</td>\n      <td>NY</td>\n      <td>4f3232e219836c91c7bfde94</td>\n    </tr>\n    <tr>\n      <th>2</th>\n      <td>Ecco</td>\n      <td>Italian Restaurant</td>\n      <td>124 Chambers St</td>\n      <td>US</td>\n      <td>New York</td>\n      <td>United States</td>\n      <td>btwn Church St &amp; W Broadway</td>\n      <td>549</td>\n      <td>[124 Chambers St (btwn Church St &amp; W Broadway)...</td>\n      <td>[{'label': 'display', 'lat': 40.71533713859952...</td>\n      <td>40.715337</td>\n      <td>-74.008848</td>\n      <td>10007</td>\n      <td>NY</td>\n      <td>3fd66200f964a520f4e41ee3</td>\n    </tr>\n  </tbody>\n</table>\n</div>",
                        "text/plain": "                              name          categories          address  cc  \\\n0        Harry's Italian Pizza Bar         Pizza Place    225 Murray St  US   \n1  Conca Cucina Italian Restaurant                Food    63 W Broadway  US   \n2                             Ecco  Italian Restaurant  124 Chambers St  US   \n\n       city        country                  crossStreet  distance  \\\n0  New York  United States                          NaN        58   \n1  New York  United States                          NaN       469   \n2  New York  United States  btwn Church St & W Broadway       549   \n\n                                    formattedAddress  \\\n0  [225 Murray St, New York, NY 10282, United Sta...   \n1  [63 W Broadway, New York, NY 10007, United Sta...   \n2  [124 Chambers St (btwn Church St & W Broadway)...   \n\n                                      labeledLatLngs        lat        lng  \\\n0  [{'label': 'display', 'lat': 40.71521779064671...  40.715218 -74.014739   \n1  [{'label': 'display', 'lat': 40.71448400000000...  40.714484 -74.009806   \n2  [{'label': 'display', 'lat': 40.71533713859952...  40.715337 -74.008848   \n\n  postalCode state                        id  \n0      10282    NY  4fa862b3e4b0ebff2f749f06  \n1      10007    NY  4f3232e219836c91c7bfde94  \n2      10007    NY  3fd66200f964a520f4e41ee3  "
                    },
                    "execution_count": 19,
                    "metadata": {},
                    "output_type": "execute_result"
                }
            ],
            "source": "# keep only columns that include venue name, and anything that is associated with location\nfiltered_columns = ['name', 'categories'] + [col for col in dataframe.columns if col.startswith('location.')] + ['id']\ndataframe_filtered = dataframe.loc[:, filtered_columns]\n\n# function that extracts the category of the venue\ndef get_category_type(row):\n    try:\n        categories_list = row['categories']\n    except:\n        categories_list = row['venue.categories']\n        \n    if len(categories_list) == 0:\n        return None\n    else:\n        return categories_list[0]['name']\n\n# filter the category for each row\ndataframe_filtered['categories'] = dataframe_filtered.apply(get_category_type, axis=1)\n\n# clean column names by keeping only last term\ndataframe_filtered.columns = [column.split('.')[-1] for column in dataframe_filtered.columns]\n\ndataframe_filtered"
        },
        {
            "cell_type": "markdown",
            "metadata": {
                "button": false,
                "new_sheet": false,
                "run_control": {
                    "read_only": false
                }
            },
            "source": "#### Let's visualize the Italian restaurants that are nearby"
        },
        {
            "cell_type": "code",
            "execution_count": 20,
            "metadata": {
                "button": false,
                "jupyter": {
                    "outputs_hidden": false
                },
                "new_sheet": false,
                "run_control": {
                    "read_only": false
                }
            },
            "outputs": [
                {
                    "data": {
                        "text/plain": "0          Harry's Italian Pizza Bar\n1    Conca Cucina Italian Restaurant\n2                               Ecco\nName: name, dtype: object"
                    },
                    "execution_count": 20,
                    "metadata": {},
                    "output_type": "execute_result"
                }
            ],
            "source": "dataframe_filtered.name"
        },
        {
            "cell_type": "code",
            "execution_count": 23,
            "metadata": {
                "button": false,
                "jupyter": {
                    "outputs_hidden": false
                },
                "new_sheet": false,
                "run_control": {
                    "read_only": false
                }
            },
            "outputs": [
                {
                    "data": {
                        "text/html": "<div style=\"width:100%;\"><div style=\"position:relative;width:100%;height:0;padding-bottom:60%;\"><iframe src=\"data:text/html;charset=utf-8;base64,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\" style=\"position:absolute;width:100%;height:100%;left:0;top:0;border:none !important;\" allowfullscreen webkitallowfullscreen mozallowfullscreen></iframe></div></div>",
                        "text/plain": "<folium.folium.Map at 0x137b6716d68>"
                    },
                    "execution_count": 23,
                    "metadata": {},
                    "output_type": "execute_result"
                }
            ],
            "source": "venues_map = folium.Map(location=[latitude, longitude], zoom_start=13) # generate map centred around the Conrad Hotel\n\n# add a red circle marker to represent the Conrad Hotel\nfolium.CircleMarker(\n    [latitude, longitude],\n    radius=10,\n    color='red',\n    popup='Conrad Hotel',\n    fill = True,\n    fill_color = 'red',\n    fill_opacity = 0.6\n).add_to(venues_map)\n\n# add the Italian restaurants as blue circle markers\nfor lat, lng, label in zip(dataframe_filtered.lat, dataframe_filtered.lng, dataframe_filtered.categories):\n    folium.CircleMarker(\n        [lat, lng],\n        radius=5,\n        color='blue',\n        popup=label,\n        fill = True,\n        fill_color='blue',\n        fill_opacity=0.6\n    ).add_to(venues_map)\n\n# display map\nvenues_map"
        },
        {
            "cell_type": "markdown",
            "metadata": {
                "button": false,
                "new_sheet": false,
                "run_control": {
                    "read_only": false
                }
            },
            "source": "   "
        },
        {
            "cell_type": "markdown",
            "metadata": {
                "button": false,
                "new_sheet": false,
                "run_control": {
                    "read_only": false
                }
            },
            "source": "<a id=\"item2\"></a>"
        },
        {
            "cell_type": "markdown",
            "metadata": {
                "button": false,
                "new_sheet": false,
                "run_control": {
                    "read_only": false
                }
            },
            "source": "## 2. Explore a Given Venue\n> `https://api.foursquare.com/v2/venues/`**VENUE_ID**`?client_id=`**CLIENT_ID**`&client_secret=`**CLIENT_SECRET**`&v=`**VERSION**"
        },
        {
            "cell_type": "markdown",
            "metadata": {
                "button": false,
                "new_sheet": false,
                "run_control": {
                    "read_only": false
                }
            },
            "source": "### A. Let's explore the closest Italian restaurant -- _Harry's Italian Pizza Bar_"
        },
        {
            "cell_type": "code",
            "execution_count": 24,
            "metadata": {
                "button": false,
                "jupyter": {
                    "outputs_hidden": false
                },
                "new_sheet": false,
                "run_control": {
                    "read_only": false
                }
            },
            "outputs": [
                {
                    "data": {
                        "text/plain": "'https://api.foursquare.com/v2/venues/4fa862b3e4b0ebff2f749f06?client_id=OYNEO4YYLV5NRHJLCWAP0MXEGIWF5ELB0Q231ZG3MJTZ2ZZF&client_secret=B2A4ZW0ZVUAPSRRMCMDWEQUN3AKU4ZEN0YBSGQCIMXP5ASQI&v=20191118'"
                    },
                    "execution_count": 24,
                    "metadata": {},
                    "output_type": "execute_result"
                }
            ],
            "source": "venue_id = '4fa862b3e4b0ebff2f749f06' # ID of Harry's Italian Pizza Bar\nurl = 'https://api.foursquare.com/v2/venues/{}?client_id={}&client_secret={}&v={}'.format(venue_id, CLIENT_ID, CLIENT_SECRET, VERSION)\nurl"
        },
        {
            "cell_type": "markdown",
            "metadata": {
                "button": false,
                "new_sheet": false,
                "run_control": {
                    "read_only": false
                }
            },
            "source": "#### Send GET request for result"
        },
        {
            "cell_type": "code",
            "execution_count": 25,
            "metadata": {
                "button": false,
                "jupyter": {
                    "outputs_hidden": false
                },
                "new_sheet": false,
                "run_control": {
                    "read_only": false
                }
            },
            "outputs": [
                {
                    "name": "stdout",
                    "output_type": "stream",
                    "text": "dict_keys(['id', 'name', 'contact', 'location', 'canonicalUrl', 'categories', 'verified', 'stats', 'url', 'price', 'hasMenu', 'likes', 'dislike', 'ok', 'rating', 'ratingColor', 'ratingSignals', 'delivery', 'menu', 'allowMenuUrlEdit', 'beenHere', 'specials', 'photos', 'reasons', 'hereNow', 'createdAt', 'tips', 'shortUrl', 'timeZone', 'listed', 'hours', 'popular', 'pageUpdates', 'inbox', 'attributes', 'bestPhoto', 'colors'])\n"
                },
                {
                    "data": {
                        "text/plain": "{'id': '4fa862b3e4b0ebff2f749f06',\n 'name': \"Harry's Italian Pizza Bar\",\n 'contact': {'phone': '2126081007', 'formattedPhone': '(212) 608-1007'},\n 'location': {'address': '225 Murray St',\n  'lat': 40.71521779064671,\n  'lng': -74.01473940209351,\n  'labeledLatLngs': [{'label': 'display',\n    'lat': 40.71521779064671,\n    'lng': -74.01473940209351}],\n  'postalCode': '10282',\n  'cc': 'US',\n  'city': 'New York',\n  'state': 'NY',\n  'country': 'United States',\n  'formattedAddress': ['225 Murray St',\n   'New York, NY 10282',\n   'United States']},\n 'canonicalUrl': 'https://foursquare.com/v/harrys-italian-pizza-bar/4fa862b3e4b0ebff2f749f06',\n 'categories': [{'id': '4bf58dd8d48988d1ca941735',\n   'name': 'Pizza Place',\n   'pluralName': 'Pizza Places',\n   'shortName': 'Pizza',\n   'icon': {'prefix': 'https://ss3.4sqi.net/img/categories_v2/food/pizza_',\n    'suffix': '.png'},\n   'primary': True},\n  {'id': '4bf58dd8d48988d110941735',\n   'name': 'Italian Restaurant',\n   'pluralName': 'Italian Restaurants',\n   'shortName': 'Italian',\n   'icon': {'prefix': 'https://ss3.4sqi.net/img/categories_v2/food/italian_',\n    'suffix': '.png'}}],\n 'verified': False,\n 'stats': {'tipCount': 57},\n 'url': 'http://harrysitalian.com',\n 'price': {'tier': 2, 'message': 'Moderate', 'currency': '$'},\n 'hasMenu': True,\n 'likes': {'count': 120,\n  'groups': [{'type': 'others', 'count': 120, 'items': []}],\n  'summary': '120 Likes'},\n 'dislike': False,\n 'ok': False,\n 'rating': 6.9,\n 'ratingColor': 'FFC800',\n 'ratingSignals': 213,\n 'delivery': {'id': '294544',\n  'url': 'https://www.seamless.com/menu/harrys-italian-pizza-bar-225-murray-st-new-york/294544?affiliate=1131&utm_source=foursquare-affiliate-network&utm_medium=affiliate&utm_campaign=1131&utm_content=294544',\n  'provider': {'name': 'seamless',\n   'icon': {'prefix': 'https://fastly.4sqi.net/img/general/cap/',\n    'sizes': [40, 50],\n    'name': '/delivery_provider_seamless_20180129.png'}}},\n 'menu': {'type': 'Menu',\n  'label': 'Menu',\n  'anchor': 'View Menu',\n  'url': 'https://foursquare.com/v/harrys-italian-pizza-bar/4fa862b3e4b0ebff2f749f06/menu',\n  'mobileUrl': 'https://foursquare.com/v/4fa862b3e4b0ebff2f749f06/device_menu'},\n 'allowMenuUrlEdit': True,\n 'beenHere': {'count': 0,\n  'unconfirmedCount': 0,\n  'marked': False,\n  'lastCheckinExpiredAt': 0},\n 'specials': {'count': 0, 'items': []},\n 'photos': {'count': 149,\n  'groups': [{'type': 'venue',\n    'name': 'Venue photos',\n    'count': 149,\n    'items': [{'id': '4fad980de4b091b4626c3633',\n      'createdAt': 1336776717,\n      'source': {'name': 'Foursquare for Android',\n       'url': 'https://foursquare.com/download/#/android'},\n      'prefix': 'https://fastly.4sqi.net/img/general/',\n      'suffix': '/ya1iQFI7pLjuIJp1PGDKlrZS3OJdHCF7tpILMmjv_2w.jpg',\n      'width': 480,\n      'height': 640,\n      'user': {'id': '13676709',\n       'firstName': 'Leony',\n       'lastName': 'Naciri',\n       'gender': 'none',\n       'photo': {'prefix': 'https://fastly.4sqi.net/img/user/',\n        'suffix': '/T0ANFNGNMCHUDEUE.jpg'}},\n      'visibility': 'public'}]}]},\n 'reasons': {'count': 1,\n  'items': [{'summary': 'Lots of people like this place',\n    'type': 'general',\n    'reasonName': 'rawLikesReason'}]},\n 'hereNow': {'count': 0, 'summary': 'Nobody here', 'groups': []},\n 'createdAt': 1336435379,\n 'tips': {'count': 57,\n  'groups': [{'type': 'others',\n    'name': 'All tips',\n    'count': 57,\n    'items': [{'id': '53d27909498e0523841340b6',\n      'createdAt': 1406302473,\n      'text': \"Harry's Italian Pizza bar is known for it's amazing pizza, but did you know that the brunches here are amazing too? Try the Nutella French toast and we know you'll be sold.\",\n      'type': 'user',\n      'canonicalUrl': 'https://foursquare.com/item/53d27909498e0523841340b6',\n      'lang': 'en',\n      'likes': {'count': 4,\n       'groups': [{'type': 'others',\n         'count': 4,\n         'items': [{'id': '369426',\n           'firstName': 'P.',\n           'lastName': 'M.',\n           'gender': 'male',\n           'photo': {'prefix': 'https://fastly.4sqi.net/img/user/',\n            'suffix': '/JPQYUWJKUT0H2OO4.jpg'}},\n          {'id': '87587879',\n           'firstName': 'Diane',\n           'lastName': 'Danneels',\n           'gender': 'female',\n           'photo': {'prefix': 'https://fastly.4sqi.net/img/user/',\n            'suffix': '/87587879-ESLRSZLQ2CBE2P4W.jpg'}},\n          {'id': '87591341',\n           'firstName': 'Tim',\n           'lastName': 'Sheehan',\n           'gender': 'male',\n           'photo': {'prefix': 'https://fastly.4sqi.net/img/user/',\n            'suffix': '/-Z4YK4VKE0JSVXIY1.jpg'}},\n          {'id': '87473404',\n           'firstName': 'TenantKing.com',\n           'gender': 'none',\n           'photo': {'prefix': 'https://fastly.4sqi.net/img/user/',\n            'suffix': '/87473404-HI5DTBTK0HX401CA.png'},\n           'type': 'page'}]}],\n       'summary': '4 likes'},\n      'logView': True,\n      'agreeCount': 4,\n      'disagreeCount': 0,\n      'todo': {'count': 0},\n      'user': {'id': '87473404',\n       'firstName': 'TenantKing.com',\n       'gender': 'none',\n       'photo': {'prefix': 'https://fastly.4sqi.net/img/user/',\n        'suffix': '/87473404-HI5DTBTK0HX401CA.png'},\n       'type': 'page'}}]}]},\n 'shortUrl': 'http://4sq.com/JNblHV',\n 'timeZone': 'America/New_York',\n 'listed': {'count': 54,\n  'groups': [{'type': 'others',\n    'name': 'Lists from other people',\n    'count': 54,\n    'items': [{'id': '4fa32fd0e4b04193744746b1',\n      'name': 'Manhattan Haunts',\n      'description': '',\n      'type': 'others',\n      'user': {'id': '24592223',\n       'firstName': 'Becca',\n       'lastName': 'McArthur',\n       'gender': 'female',\n       'photo': {'prefix': 'https://fastly.4sqi.net/img/user/',\n        'suffix': '/24592223-RAW2UYM0GIB1U40K.jpg'}},\n      'editable': False,\n      'public': True,\n      'collaborative': False,\n      'url': '/becca_mcarthur/list/manhattan-haunts',\n      'canonicalUrl': 'https://foursquare.com/becca_mcarthur/list/manhattan-haunts',\n      'createdAt': 1336094672,\n      'updatedAt': 1380845377,\n      'photo': {'id': '4e8cc9461081e3b3544e12e5',\n       'createdAt': 1317849414,\n       'prefix': 'https://fastly.4sqi.net/img/general/',\n       'suffix': '/0NLVU2HC1JF4DXIMKWUFW3QBUT31DC11EFNYYHMJG3NDWAPS.jpg',\n       'width': 492,\n       'height': 330,\n       'user': {'id': '742542',\n        'firstName': 'Time Out New York',\n        'gender': 'none',\n        'photo': {'prefix': 'https://fastly.4sqi.net/img/user/',\n         'suffix': '/XXHKCBSQHBORZNSR.jpg'},\n        'type': 'page'},\n       'visibility': 'public'},\n      'followers': {'count': 22},\n      'listItems': {'count': 187,\n       'items': [{'id': 'v4fa862b3e4b0ebff2f749f06',\n         'createdAt': 1342934485}]}},\n     {'id': '4fae817be4b085f6b2a74d19',\n      'name': 'USA NYC MAN FiDi',\n      'description': 'Where to go for decent eats in the restaurant wasteland of Downtown NYC aka FiDi, along with Tribeca & Battery Park City.',\n      'type': 'others',\n      'user': {'id': '12113441',\n       'firstName': 'Kino',\n       'gender': 'male',\n       'photo': {'prefix': 'https://fastly.4sqi.net/img/user/',\n        'suffix': '/12113441-K5HTHFLU2MUCM0CM.jpg'}},\n      'editable': False,\n      'public': True,\n      'collaborative': False,\n      'url': '/kinosfault/list/usa-nyc-man-fidi',\n      'canonicalUrl': 'https://foursquare.com/kinosfault/list/usa-nyc-man-fidi',\n      'createdAt': 1336836475,\n      'updatedAt': 1556754919,\n      'photo': {'id': '55984992498e13ba75e353bb',\n       'createdAt': 1436043666,\n       'prefix': 'https://fastly.4sqi.net/img/general/',\n       'suffix': '/12113441_iOa6Uh-Xi8bhj2-gpzkkw8MKiAIs7RmOcz_RM7m8ink.jpg',\n       'width': 540,\n       'height': 960,\n       'user': {'id': '12113441',\n        'firstName': 'Kino',\n        'gender': 'male',\n        'photo': {'prefix': 'https://fastly.4sqi.net/img/user/',\n         'suffix': '/12113441-K5HTHFLU2MUCM0CM.jpg'}},\n       'visibility': 'public'},\n      'followers': {'count': 20},\n      'listItems': {'count': 273,\n       'items': [{'id': 'v4fa862b3e4b0ebff2f749f06',\n         'createdAt': 1373909433}]}},\n     {'id': '4fddeff0e4b0e078037ac0d3',\n      'name': 'NYC Resturants',\n      'description': '',\n      'type': 'others',\n      'user': {'id': '21563126',\n       'firstName': 'Richard',\n       'lastName': 'Revilla',\n       'gender': 'male',\n       'photo': {'prefix': 'https://fastly.4sqi.net/img/user/',\n        'suffix': '/21563126_v05J1KPw_SVj6Ehq9g8B9jeAGjFUMsU5QGl-NZ8inUQ7pKQm5bKplW37EmR7jS2A7GYPBBAtl.jpg'}},\n      'editable': False,\n      'public': True,\n      'collaborative': True,\n      'url': '/rickr7/list/nyc-resturants',\n      'canonicalUrl': 'https://foursquare.com/rickr7/list/nyc-resturants',\n      'createdAt': 1339944944,\n      'updatedAt': 1572542964,\n      'photo': {'id': '5072dd13e4b09145cdf782d1',\n       'createdAt': 1349704979,\n       'prefix': 'https://fastly.4sqi.net/img/general/',\n       'suffix': '/208205_fGh2OuAZ9qJ4agbAA5wMVNOSIm9kNUlRtNwj1N-adqg.jpg',\n       'width': 800,\n       'height': 800,\n       'user': {'id': '208205',\n        'firstName': 'Thalia',\n        'lastName': 'K',\n        'gender': 'female',\n        'photo': {'prefix': 'https://fastly.4sqi.net/img/user/',\n         'suffix': '/SNOOLCAW2AG04ZKD.jpg'}},\n       'visibility': 'public'},\n      'followers': {'count': 12},\n      'listItems': {'count': 195,\n       'items': [{'id': 't54ed3b13498e857fd7dbb6fc',\n         'createdAt': 1514680908}]}},\n     {'id': '5266c68a498e7c667807fe09',\n      'name': 'Foodie Love in NY - 02',\n      'description': '',\n      'type': 'others',\n      'user': {'id': '547977',\n       'firstName': 'WiLL',\n       'gender': 'male',\n       'photo': {'prefix': 'https://fastly.4sqi.net/img/user/',\n        'suffix': '/-Q5NYGDMFDMOITQRR.jpg'}},\n      'editable': False,\n      'public': True,\n      'collaborative': False,\n      'url': '/sweetiewill/list/foodie-love-in-ny--02',\n      'canonicalUrl': 'https://foursquare.com/sweetiewill/list/foodie-love-in-ny--02',\n      'createdAt': 1382467210,\n      'updatedAt': 1391995585,\n      'followers': {'count': 7},\n      'listItems': {'count': 200,\n       'items': [{'id': 'v4fa862b3e4b0ebff2f749f06',\n         'createdAt': 1386809936}]}}]}]},\n 'hours': {'status': 'Open until 11:00 PM',\n  'richStatus': {'entities': [], 'text': 'Open until 11:00 PM'},\n  'isOpen': True,\n  'isLocalHoliday': False,\n  'dayData': [],\n  'timeframes': [{'days': 'Mon\u2013Wed, Sun',\n    'includesToday': True,\n    'open': [{'renderedTime': '11:30 AM\u201311:00 PM'}],\n    'segments': []},\n   {'days': 'Thu\u2013Sat',\n    'open': [{'renderedTime': '11:30 AM\u2013Midnight'}],\n    'segments': []}]},\n 'popular': {'status': 'Likely open',\n  'richStatus': {'entities': [], 'text': 'Likely open'},\n  'isOpen': True,\n  'isLocalHoliday': False,\n  'timeframes': [{'days': 'Today',\n    'includesToday': True,\n    'open': [{'renderedTime': 'Noon\u20132:00 PM'},\n     {'renderedTime': '6:00 PM\u20138:00 PM'}],\n    'segments': []},\n   {'days': 'Tue\u2013Thu',\n    'open': [{'renderedTime': 'Noon\u20132:00 PM'},\n     {'renderedTime': '5:00 PM\u201310:00 PM'}],\n    'segments': []},\n   {'days': 'Fri',\n    'open': [{'renderedTime': 'Noon\u20133:00 PM'},\n     {'renderedTime': '5:00 PM\u201311:00 PM'}],\n    'segments': []},\n   {'days': 'Sat',\n    'open': [{'renderedTime': 'Noon\u20134:00 PM'},\n     {'renderedTime': '6:00 PM\u201311:00 PM'}],\n    'segments': []},\n   {'days': 'Sun',\n    'open': [{'renderedTime': 'Noon\u20133:00 PM'},\n     {'renderedTime': '5:00 PM\u20138:00 PM'}],\n    'segments': []}]},\n 'pageUpdates': {'count': 0, 'items': []},\n 'inbox': {'count': 0, 'items': []},\n 'attributes': {'groups': [{'type': 'price',\n    'name': 'Price',\n    'summary': '$$',\n    'count': 1,\n    'items': [{'displayName': 'Price', 'displayValue': '$$', 'priceTier': 2}]},\n   {'type': 'payments',\n    'name': 'Credit Cards',\n    'summary': 'Credit Cards',\n    'count': 7,\n    'items': [{'displayName': 'Credit Cards',\n      'displayValue': 'Yes (incl. American Express)'}]},\n   {'type': 'outdoorSeating',\n    'name': 'Outdoor Seating',\n    'summary': 'Outdoor Seating',\n    'count': 1,\n    'items': [{'displayName': 'Outdoor Seating', 'displayValue': 'Yes'}]},\n   {'type': 'serves',\n    'name': 'Menus',\n    'summary': 'Happy Hour, Brunch & more',\n    'count': 8,\n    'items': [{'displayName': 'Brunch', 'displayValue': 'Brunch'},\n     {'displayName': 'Lunch', 'displayValue': 'Lunch'},\n     {'displayName': 'Dinner', 'displayValue': 'Dinner'},\n     {'displayName': 'Happy Hour', 'displayValue': 'Happy Hour'}]},\n   {'type': 'drinks',\n    'name': 'Drinks',\n    'summary': 'Beer, Wine & Cocktails',\n    'count': 5,\n    'items': [{'displayName': 'Beer', 'displayValue': 'Beer'},\n     {'displayName': 'Wine', 'displayValue': 'Wine'},\n     {'displayName': 'Cocktails', 'displayValue': 'Cocktails'}]},\n   {'type': 'diningOptions',\n    'name': 'Dining Options',\n    'summary': 'Delivery',\n    'count': 5,\n    'items': [{'displayName': 'Delivery', 'displayValue': 'Delivery'}]}]},\n 'bestPhoto': {'id': '4fad980de4b091b4626c3633',\n  'createdAt': 1336776717,\n  'source': {'name': 'Foursquare for Android',\n   'url': 'https://foursquare.com/download/#/android'},\n  'prefix': 'https://fastly.4sqi.net/img/general/',\n  'suffix': '/ya1iQFI7pLjuIJp1PGDKlrZS3OJdHCF7tpILMmjv_2w.jpg',\n  'width': 480,\n  'height': 640,\n  'visibility': 'public'},\n 'colors': {'highlightColor': {'photoId': '4fad980de4b091b4626c3633',\n   'value': -13619152},\n  'highlightTextColor': {'photoId': '4fad980de4b091b4626c3633', 'value': -1},\n  'algoVersion': 3}}"
                    },
                    "execution_count": 25,
                    "metadata": {},
                    "output_type": "execute_result"
                }
            ],
            "source": "result = requests.get(url).json()\nprint(result['response']['venue'].keys())\nresult['response']['venue']"
        },
        {
            "cell_type": "markdown",
            "metadata": {
                "button": false,
                "new_sheet": false,
                "run_control": {
                    "read_only": false
                }
            },
            "source": "### B. Get the venue's overall rating"
        },
        {
            "cell_type": "code",
            "execution_count": 26,
            "metadata": {
                "button": false,
                "jupyter": {
                    "outputs_hidden": false
                },
                "new_sheet": false,
                "run_control": {
                    "read_only": false
                }
            },
            "outputs": [
                {
                    "name": "stdout",
                    "output_type": "stream",
                    "text": "6.9\n"
                }
            ],
            "source": "try:\n    print(result['response']['venue']['rating'])\nexcept:\n    print('This venue has not been rated yet.')"
        },
        {
            "cell_type": "markdown",
            "metadata": {
                "button": false,
                "new_sheet": false,
                "run_control": {
                    "read_only": false
                }
            },
            "source": "That is not a very good rating. Let's check the rating of the second closest Italian restaurant."
        },
        {
            "cell_type": "code",
            "execution_count": 27,
            "metadata": {
                "button": false,
                "jupyter": {
                    "outputs_hidden": false
                },
                "new_sheet": false,
                "run_control": {
                    "read_only": false
                }
            },
            "outputs": [
                {
                    "name": "stdout",
                    "output_type": "stream",
                    "text": "This venue has not been rated yet.\n"
                }
            ],
            "source": "venue_id = '4f3232e219836c91c7bfde94' # ID of Conca Cucina Italian Restaurant\nurl = 'https://api.foursquare.com/v2/venues/{}?client_id={}&client_secret={}&v={}'.format(venue_id, CLIENT_ID, CLIENT_SECRET, VERSION)\n\nresult = requests.get(url).json()\ntry:\n    print(result['response']['venue']['rating'])\nexcept:\n    print('This venue has not been rated yet.')"
        },
        {
            "cell_type": "markdown",
            "metadata": {
                "button": false,
                "new_sheet": false,
                "run_control": {
                    "read_only": false
                }
            },
            "source": "Since this restaurant has no ratings, let's check the third restaurant."
        },
        {
            "cell_type": "code",
            "execution_count": 28,
            "metadata": {
                "button": false,
                "jupyter": {
                    "outputs_hidden": false
                },
                "new_sheet": false,
                "run_control": {
                    "read_only": false
                }
            },
            "outputs": [
                {
                    "name": "stdout",
                    "output_type": "stream",
                    "text": "7.8\n"
                }
            ],
            "source": "venue_id = '3fd66200f964a520f4e41ee3' # ID of Ecco\nurl = 'https://api.foursquare.com/v2/venues/{}?client_id={}&client_secret={}&v={}'.format(venue_id, CLIENT_ID, CLIENT_SECRET, VERSION)\n\nresult = requests.get(url).json()\ntry:\n    print(result['response']['venue']['rating'])\nexcept:\n    print('This venue has not been rated yet.')"
        },
        {
            "cell_type": "markdown",
            "metadata": {
                "button": false,
                "new_sheet": false,
                "run_control": {
                    "read_only": false
                }
            },
            "source": "Since this restaurant has a slightly better rating, let's explore it further."
        },
        {
            "cell_type": "markdown",
            "metadata": {
                "button": false,
                "new_sheet": false,
                "run_control": {
                    "read_only": false
                }
            },
            "source": "### C. Get the number of tips"
        },
        {
            "cell_type": "code",
            "execution_count": 29,
            "metadata": {
                "button": false,
                "jupyter": {
                    "outputs_hidden": false
                },
                "new_sheet": false,
                "run_control": {
                    "read_only": false
                }
            },
            "outputs": [
                {
                    "data": {
                        "text/plain": "17"
                    },
                    "execution_count": 29,
                    "metadata": {},
                    "output_type": "execute_result"
                }
            ],
            "source": "result['response']['venue']['tips']['count']"
        },
        {
            "cell_type": "markdown",
            "metadata": {
                "button": false,
                "new_sheet": false,
                "run_control": {
                    "read_only": false
                }
            },
            "source": "### D. Get the venue's tips\n> `https://api.foursquare.com/v2/venues/`**VENUE_ID**`/tips?client_id=`**CLIENT_ID**`&client_secret=`**CLIENT_SECRET**`&v=`**VERSION**`&limit=`**LIMIT**"
        },
        {
            "cell_type": "markdown",
            "metadata": {
                "button": false,
                "new_sheet": false,
                "run_control": {
                    "read_only": false
                }
            },
            "source": "#### Create URL and send GET request. Make sure to set limit to get all tips"
        },
        {
            "cell_type": "code",
            "execution_count": 30,
            "metadata": {
                "button": false,
                "jupyter": {
                    "outputs_hidden": false
                },
                "new_sheet": false,
                "run_control": {
                    "read_only": false
                }
            },
            "outputs": [
                {
                    "data": {
                        "text/plain": "{'meta': {'code': 200, 'requestId': '5dd2d869ad1ab4001b4e4b98'},\n 'response': {'tips': {'count': 17,\n   'items': [{'id': '5ab1cb46c9a517174651d3fe',\n     'createdAt': 1521601350,\n     'text': 'A+ Italian food! Trust me on this: my mom\u2019s side of the family is 100% Italian. I was born and bred to know good pasta when I see it, and Ecco is one of my all-time NYC favorites',\n     'type': 'user',\n     'canonicalUrl': 'https://foursquare.com/item/5ab1cb46c9a517174651d3fe',\n     'lang': 'en',\n     'likes': {'count': 0, 'groups': []},\n     'logView': True,\n     'agreeCount': 3,\n     'disagreeCount': 0,\n     'todo': {'count': 0},\n     'user': {'id': '484542633',\n      'firstName': 'Nick',\n      'lastName': 'El-Tawil',\n      'gender': 'male',\n      'photo': {'prefix': 'https://fastly.4sqi.net/img/user/',\n       'suffix': '/484542633_mK2Yum7T_7Tn9fWpndidJsmw2Hof_6T5vJBKCHPLMK5OL-U5ZiJGj51iwBstcpDLYa3Zvhvis.jpg'}},\n     'authorInteractionType': 'liked'}]}}}"
                    },
                    "execution_count": 30,
                    "metadata": {},
                    "output_type": "execute_result"
                }
            ],
            "source": "## Ecco Tips\nlimit = 15 # set limit to be greater than or equal to the total number of tips\nurl = 'https://api.foursquare.com/v2/venues/{}/tips?client_id={}&client_secret={}&v={}&limit={}'.format(venue_id, CLIENT_ID, CLIENT_SECRET, VERSION, limit)\n\nresults = requests.get(url).json()\nresults"
        },
        {
            "cell_type": "markdown",
            "metadata": {
                "button": false,
                "new_sheet": false,
                "run_control": {
                    "read_only": false
                }
            },
            "source": "#### Get tips and list of associated features"
        },
        {
            "cell_type": "code",
            "execution_count": 31,
            "metadata": {
                "button": false,
                "jupyter": {
                    "outputs_hidden": false
                },
                "new_sheet": false,
                "run_control": {
                    "read_only": false
                }
            },
            "outputs": [
                {
                    "data": {
                        "text/plain": "dict_keys(['id', 'createdAt', 'text', 'type', 'canonicalUrl', 'lang', 'likes', 'logView', 'agreeCount', 'disagreeCount', 'todo', 'user', 'authorInteractionType'])"
                    },
                    "execution_count": 31,
                    "metadata": {},
                    "output_type": "execute_result"
                }
            ],
            "source": "tips = results['response']['tips']['items']\n\ntip = results['response']['tips']['items'][0]\ntip.keys()"
        },
        {
            "cell_type": "markdown",
            "metadata": {
                "button": false,
                "new_sheet": false,
                "run_control": {
                    "read_only": false
                }
            },
            "source": "#### Format column width and display all tips"
        },
        {
            "cell_type": "code",
            "execution_count": 32,
            "metadata": {
                "button": false,
                "jupyter": {
                    "outputs_hidden": false
                },
                "new_sheet": false,
                "run_control": {
                    "read_only": false
                }
            },
            "outputs": [
                {
                    "data": {
                        "text/html": "<div>\n<style scoped>\n    .dataframe tbody tr th:only-of-type {\n        vertical-align: middle;\n    }\n\n    .dataframe tbody tr th {\n        vertical-align: top;\n    }\n\n    .dataframe thead th {\n        text-align: right;\n    }\n</style>\n<table border=\"1\" class=\"dataframe\">\n  <thead>\n    <tr style=\"text-align: right;\">\n      <th></th>\n      <th>text</th>\n      <th>agreeCount</th>\n      <th>disagreeCount</th>\n      <th>id</th>\n      <th>user.firstName</th>\n      <th>user.lastName</th>\n      <th>user.gender</th>\n      <th>user.id</th>\n    </tr>\n  </thead>\n  <tbody>\n    <tr>\n      <th>0</th>\n      <td>A+ Italian food! Trust me on this: my mom\u2019s side of the family is 100% Italian. I was born and bred to know good pasta when I see it, and Ecco is one of my all-time NYC favorites</td>\n      <td>3</td>\n      <td>0</td>\n      <td>5ab1cb46c9a517174651d3fe</td>\n      <td>Nick</td>\n      <td>El-Tawil</td>\n      <td>male</td>\n      <td>484542633</td>\n    </tr>\n  </tbody>\n</table>\n</div>",
                        "text/plain": "                                                                                                                                                                                 text  \\\n0  A+ Italian food! Trust me on this: my mom\u2019s side of the family is 100% Italian. I was born and bred to know good pasta when I see it, and Ecco is one of my all-time NYC favorites   \n\n   agreeCount  disagreeCount                        id user.firstName  \\\n0  3           0              5ab1cb46c9a517174651d3fe  Nick            \n\n  user.lastName user.gender    user.id  \n0  El-Tawil      male        484542633  "
                    },
                    "execution_count": 32,
                    "metadata": {},
                    "output_type": "execute_result"
                }
            ],
            "source": "pd.set_option('display.max_colwidth', -1)\n\ntips_df = json_normalize(tips) # json normalize tips\n\n# columns to keep\nfiltered_columns = ['text', 'agreeCount', 'disagreeCount', 'id', 'user.firstName', 'user.lastName', 'user.gender', 'user.id']\ntips_filtered = tips_df.loc[:, filtered_columns]\n\n# display tips\ntips_filtered"
        },
        {
            "cell_type": "markdown",
            "metadata": {
                "button": false,
                "new_sheet": false,
                "run_control": {
                    "read_only": false
                }
            },
            "source": "Now remember that because we are using a personal developer account, then we can access only 2 of the restaurant's tips, instead of all 15 tips."
        },
        {
            "cell_type": "markdown",
            "metadata": {
                "button": false,
                "new_sheet": false,
                "run_control": {
                    "read_only": false
                }
            },
            "source": "   "
        },
        {
            "cell_type": "markdown",
            "metadata": {
                "button": false,
                "new_sheet": false,
                "run_control": {
                    "read_only": false
                }
            },
            "source": "<a id=\"item3\"></a>"
        },
        {
            "cell_type": "markdown",
            "metadata": {
                "button": false,
                "new_sheet": false,
                "run_control": {
                    "read_only": false
                }
            },
            "source": "## 3. Search a Foursquare User\n> `https://api.foursquare.com/v2/users/`**USER_ID**`?client_id=`**CLIENT_ID**`&client_secret=`**CLIENT_SECRET**`&v=`**VERSION**"
        },
        {
            "cell_type": "markdown",
            "metadata": {
                "button": false,
                "new_sheet": false,
                "run_control": {
                    "read_only": false
                }
            },
            "source": "### Define URL, send GET request and display features associated with user"
        },
        {
            "cell_type": "code",
            "execution_count": 33,
            "metadata": {
                "button": false,
                "jupyter": {
                    "outputs_hidden": false
                },
                "new_sheet": false,
                "run_control": {
                    "read_only": false
                }
            },
            "outputs": [
                {
                    "data": {
                        "text/plain": "dict_keys(['id', 'firstName', 'lastName', 'gender', 'canonicalUrl', 'photo', 'friends', 'tips', 'homeCity', 'bio', 'contact', 'photos', 'type', 'mayorships', 'checkins', 'lists', 'lenses'])"
                    },
                    "execution_count": 33,
                    "metadata": {},
                    "output_type": "execute_result"
                }
            ],
            "source": "user_id = '484542633' # user ID with most agree counts and complete profile\n\nurl = 'https://api.foursquare.com/v2/users/{}?client_id={}&client_secret={}&v={}'.format(user_id, CLIENT_ID, CLIENT_SECRET, VERSION) # define URL\n\n# send GET request\nresults = requests.get(url).json()\nuser_data = results['response']['user']\n\n# display features associated with user\nuser_data.keys()"
        },
        {
            "cell_type": "code",
            "execution_count": 34,
            "metadata": {
                "button": false,
                "jupyter": {
                    "outputs_hidden": false
                },
                "new_sheet": false,
                "run_control": {
                    "read_only": false
                }
            },
            "outputs": [
                {
                    "name": "stdout",
                    "output_type": "stream",
                    "text": "First Name: Nick\nLast Name: El-Tawil\nHome City: New York, NY\n"
                }
            ],
            "source": "print('First Name: ' + user_data['firstName'])\nprint('Last Name: ' + user_data['lastName'])\nprint('Home City: ' + user_data['homeCity'])"
        },
        {
            "cell_type": "markdown",
            "metadata": {
                "button": false,
                "new_sheet": false,
                "run_control": {
                    "read_only": false
                }
            },
            "source": "#### How many tips has this user submitted?"
        },
        {
            "cell_type": "code",
            "execution_count": 35,
            "metadata": {
                "button": false,
                "jupyter": {
                    "outputs_hidden": false
                },
                "new_sheet": false,
                "run_control": {
                    "read_only": false
                }
            },
            "outputs": [
                {
                    "data": {
                        "text/plain": "{'count': 237}"
                    },
                    "execution_count": 35,
                    "metadata": {},
                    "output_type": "execute_result"
                }
            ],
            "source": "user_data['tips']"
        },
        {
            "cell_type": "markdown",
            "metadata": {
                "button": false,
                "new_sheet": false,
                "run_control": {
                    "read_only": false
                }
            },
            "source": "Wow! So it turns out that Nick is a very active Foursquare user, with more than 250 tips."
        },
        {
            "cell_type": "markdown",
            "metadata": {
                "button": false,
                "new_sheet": false,
                "run_control": {
                    "read_only": false
                }
            },
            "source": "### Get User's tips"
        },
        {
            "cell_type": "code",
            "execution_count": 36,
            "metadata": {
                "button": false,
                "jupyter": {
                    "outputs_hidden": false
                },
                "new_sheet": false,
                "run_control": {
                    "read_only": false
                }
            },
            "outputs": [
                {
                    "data": {
                        "text/html": "<div>\n<style scoped>\n    .dataframe tbody tr th:only-of-type {\n        vertical-align: middle;\n    }\n\n    .dataframe tbody tr th {\n        vertical-align: top;\n    }\n\n    .dataframe thead th {\n        text-align: right;\n    }\n</style>\n<table border=\"1\" class=\"dataframe\">\n  <thead>\n    <tr style=\"text-align: right;\">\n      <th></th>\n      <th>text</th>\n      <th>agreeCount</th>\n      <th>disagreeCount</th>\n      <th>id</th>\n    </tr>\n  </thead>\n  <tbody>\n    <tr>\n      <th>0</th>\n      <td>The best! I\u2019m especially fond of the salmon burger, but I\u2019ve had half of the menu and never been disappointed. There\u2019s a reason this place is well known even outside of the Village!</td>\n      <td>1</td>\n      <td>0</td>\n      <td>5aec594b1f7440002c138612</td>\n    </tr>\n    <tr>\n      <th>1</th>\n      <td>I used to down a pint of chocolate like it was nothing back when I was bulking. Highly recommended!</td>\n      <td>1</td>\n      <td>0</td>\n      <td>5accc9f66fa81f196724807b</td>\n    </tr>\n    <tr>\n      <th>2</th>\n      <td>They serve coffee!!!!!!</td>\n      <td>1</td>\n      <td>0</td>\n      <td>5accc98c0313204c9d7ec157</td>\n    </tr>\n    <tr>\n      <th>3</th>\n      <td>I\u2019m a fan. In fact, I\u2019m such a big fan, I want Taim to hire me to be their spokesman. Kind of like the Arabic Jared Fogle - but without the kid stuff.</td>\n      <td>1</td>\n      <td>0</td>\n      <td>5accbf033abcaf09a24612a0</td>\n    </tr>\n    <tr>\n      <th>4</th>\n      <td>The linguine with clams is on point \ud83d\udc4c</td>\n      <td>1</td>\n      <td>0</td>\n      <td>5accbe3a911fc423730f3ed3</td>\n    </tr>\n    <tr>\n      <th>5</th>\n      <td>Great for a quick, cheap lunch! Shorter lines than Chipotle too\ud83d\udc4c</td>\n      <td>1</td>\n      <td>0</td>\n      <td>5acbecb86fa81f1967e019b0</td>\n    </tr>\n    <tr>\n      <th>6</th>\n      <td>Quick, cheap lunch that tastes good! Way shorter line than Chipotle, too.</td>\n      <td>1</td>\n      <td>0</td>\n      <td>5acbec70a0215b732e264fe8</td>\n    </tr>\n    <tr>\n      <th>7</th>\n      <td>You\u2019re not a real New Yorker until you\u2019ve shame-ordered Insomnia Cookies for delivery at 3am</td>\n      <td>1</td>\n      <td>0</td>\n      <td>5acbbd4eb1538e45373b07f5</td>\n    </tr>\n    <tr>\n      <th>8</th>\n      <td>Good for you yet still tasty! Clean green protein is my go-to after I hit the gym \ud83d\udcaa</td>\n      <td>2</td>\n      <td>0</td>\n      <td>5acbbcda01235808d5d6dc75</td>\n    </tr>\n    <tr>\n      <th>9</th>\n      <td>Coffee game on point</td>\n      <td>1</td>\n      <td>0</td>\n      <td>5acbbb1501235808d5d6525e</td>\n    </tr>\n    <tr>\n      <th>10</th>\n      <td>This is the dive bar to end all other dive bars. Go here if you like cheap drinks! \ud83e\udd43</td>\n      <td>1</td>\n      <td>0</td>\n      <td>5ab576abea1e444f2abb051e</td>\n    </tr>\n    <tr>\n      <th>11</th>\n      <td>Burger game strong \ud83d\udcaa</td>\n      <td>1</td>\n      <td>0</td>\n      <td>5ab575fb6bdee65f759da8c1</td>\n    </tr>\n    <tr>\n      <th>12</th>\n      <td>Great burgers &amp; fries! Also, this place is exactly what it\u2019s like when you go to a bar in the Southwest. Source: I\u2019m from Arizona.</td>\n      <td>2</td>\n      <td>0</td>\n      <td>5ab5575d73fe2516ad8f363b</td>\n    </tr>\n    <tr>\n      <th>13</th>\n      <td>That guy looks familiar...</td>\n      <td>1</td>\n      <td>0</td>\n      <td>5ab5299635f98312029a53b7</td>\n    </tr>\n    <tr>\n      <th>14</th>\n      <td>A\u00e7a\u00ed bowl + peanut butter + whey protein = \ud83d\udcaa\ud83d\udcaa\ud83d\udcaa</td>\n      <td>1</td>\n      <td>0</td>\n      <td>5ab42db53c858d64af2688a4</td>\n    </tr>\n  </tbody>\n</table>\n</div>",
                        "text/plain": "                                                                                                                                                                                     text  \\\n0   The best! I\u2019m especially fond of the salmon burger, but I\u2019ve had half of the menu and never been disappointed. There\u2019s a reason this place is well known even outside of the Village!   \n1   I used to down a pint of chocolate like it was nothing back when I was bulking. Highly recommended!                                                                                     \n2   They serve coffee!!!!!!                                                                                                                                                                 \n3   I\u2019m a fan. In fact, I\u2019m such a big fan, I want Taim to hire me to be their spokesman. Kind of like the Arabic Jared Fogle - but without the kid stuff.                                  \n4   The linguine with clams is on point \ud83d\udc4c                                                                                                                                                   \n5   Great for a quick, cheap lunch! Shorter lines than Chipotle too\ud83d\udc4c                                                                                                                        \n6   Quick, cheap lunch that tastes good! Way shorter line than Chipotle, too.                                                                                                               \n7   You\u2019re not a real New Yorker until you\u2019ve shame-ordered Insomnia Cookies for delivery at 3am                                                                                            \n8   Good for you yet still tasty! Clean green protein is my go-to after I hit the gym \ud83d\udcaa                                                                                                     \n9   Coffee game on point                                                                                                                                                                    \n10  This is the dive bar to end all other dive bars. Go here if you like cheap drinks! \ud83e\udd43                                                                                                    \n11  Burger game strong \ud83d\udcaa                                                                                                                                                                    \n12  Great burgers & fries! Also, this place is exactly what it\u2019s like when you go to a bar in the Southwest. Source: I\u2019m from Arizona.                                                      \n13  That guy looks familiar...                                                                                                                                                              \n14  A\u00e7a\u00ed bowl + peanut butter + whey protein = \ud83d\udcaa\ud83d\udcaa\ud83d\udcaa                                                                                                                                          \n\n    agreeCount  disagreeCount                        id  \n0   1           0              5aec594b1f7440002c138612  \n1   1           0              5accc9f66fa81f196724807b  \n2   1           0              5accc98c0313204c9d7ec157  \n3   1           0              5accbf033abcaf09a24612a0  \n4   1           0              5accbe3a911fc423730f3ed3  \n5   1           0              5acbecb86fa81f1967e019b0  \n6   1           0              5acbec70a0215b732e264fe8  \n7   1           0              5acbbd4eb1538e45373b07f5  \n8   2           0              5acbbcda01235808d5d6dc75  \n9   1           0              5acbbb1501235808d5d6525e  \n10  1           0              5ab576abea1e444f2abb051e  \n11  1           0              5ab575fb6bdee65f759da8c1  \n12  2           0              5ab5575d73fe2516ad8f363b  \n13  1           0              5ab5299635f98312029a53b7  \n14  1           0              5ab42db53c858d64af2688a4  "
                    },
                    "execution_count": 36,
                    "metadata": {},
                    "output_type": "execute_result"
                }
            ],
            "source": "# define tips URL\nurl = 'https://api.foursquare.com/v2/users/{}/tips?client_id={}&client_secret={}&v={}&limit={}'.format(user_id, CLIENT_ID, CLIENT_SECRET, VERSION, limit)\n\n# send GET request and get user's tips\nresults = requests.get(url).json()\ntips = results['response']['tips']['items']\n\n# format column width\npd.set_option('display.max_colwidth', -1)\n\ntips_df = json_normalize(tips)\n\n# filter columns\nfiltered_columns = ['text', 'agreeCount', 'disagreeCount', 'id']\ntips_filtered = tips_df.loc[:, filtered_columns]\n\n# display user's tips\ntips_filtered"
        },
        {
            "cell_type": "markdown",
            "metadata": {
                "button": false,
                "new_sheet": false,
                "run_control": {
                    "read_only": false
                }
            },
            "source": "#### Let's get the venue for the tip with the greatest number of agree counts"
        },
        {
            "cell_type": "code",
            "execution_count": 37,
            "metadata": {
                "button": false,
                "jupyter": {
                    "outputs_hidden": false
                },
                "new_sheet": false,
                "run_control": {
                    "read_only": false
                }
            },
            "outputs": [
                {
                    "name": "stdout",
                    "output_type": "stream",
                    "text": "Cowgirl\n{'address': '519 Hudson St', 'crossStreet': 'at W 10th St', 'lat': 40.73373338282062, 'lng': -74.0062998849649, 'labeledLatLngs': [{'label': 'display', 'lat': 40.73373338282062, 'lng': -74.0062998849649}], 'postalCode': '10014', 'cc': 'US', 'city': 'New York', 'state': 'NY', 'country': 'United States', 'formattedAddress': ['519 Hudson St (at W 10th St)', 'New York, NY 10014', 'United States']}\n"
                }
            ],
            "source": "tip_id = '5ab5575d73fe2516ad8f363b' # tip id\n\n# define URL\nurl = 'http://api.foursquare.com/v2/tips/{}?client_id={}&client_secret={}&v={}'.format(tip_id, CLIENT_ID, CLIENT_SECRET, VERSION)\n\n# send GET Request and examine results\nresult = requests.get(url).json()\nprint(result['response']['tip']['venue']['name'])\nprint(result['response']['tip']['venue']['location'])"
        },
        {
            "cell_type": "markdown",
            "metadata": {
                "button": false,
                "new_sheet": false,
                "run_control": {
                    "read_only": false
                }
            },
            "source": "### Get User's friends"
        },
        {
            "cell_type": "code",
            "execution_count": 38,
            "metadata": {
                "button": false,
                "jupyter": {
                    "outputs_hidden": false
                },
                "new_sheet": false,
                "run_control": {
                    "read_only": false
                }
            },
            "outputs": [
                {
                    "data": {
                        "text/html": "<div>\n<style scoped>\n    .dataframe tbody tr th:only-of-type {\n        vertical-align: middle;\n    }\n\n    .dataframe tbody tr th {\n        vertical-align: top;\n    }\n\n    .dataframe thead th {\n        text-align: right;\n    }\n</style>\n<table border=\"1\" class=\"dataframe\">\n  <thead>\n    <tr style=\"text-align: right;\">\n      <th></th>\n    </tr>\n  </thead>\n  <tbody>\n  </tbody>\n</table>\n</div>",
                        "text/plain": "Empty DataFrame\nColumns: []\nIndex: []"
                    },
                    "execution_count": 38,
                    "metadata": {},
                    "output_type": "execute_result"
                }
            ],
            "source": "user_friends = json_normalize(user_data['friends']['groups'][0]['items'])\nuser_friends"
        },
        {
            "cell_type": "markdown",
            "metadata": {
                "button": false,
                "new_sheet": false,
                "run_control": {
                    "read_only": false
                }
            },
            "source": "Interesting. Despite being very active, it turns out that Nick does not have any friends on Foursquare. This might definitely change in the future."
        },
        {
            "cell_type": "markdown",
            "metadata": {
                "button": false,
                "new_sheet": false,
                "run_control": {
                    "read_only": false
                }
            },
            "source": "### Retrieve the User's Profile Image"
        },
        {
            "cell_type": "code",
            "execution_count": 39,
            "metadata": {
                "button": false,
                "jupyter": {
                    "outputs_hidden": false
                },
                "new_sheet": false,
                "run_control": {
                    "read_only": false
                },
                "scrolled": true
            },
            "outputs": [
                {
                    "data": {
                        "text/plain": "{'id': '484542633',\n 'firstName': 'Nick',\n 'lastName': 'El-Tawil',\n 'gender': 'male',\n 'canonicalUrl': 'https://foursquare.com/nickeltawil',\n 'photo': {'prefix': 'https://fastly.4sqi.net/img/user/',\n  'suffix': '/484542633_mK2Yum7T_7Tn9fWpndidJsmw2Hof_6T5vJBKCHPLMK5OL-U5ZiJGj51iwBstcpDLYa3Zvhvis.jpg'},\n 'friends': {'count': 0,\n  'groups': [{'type': 'others',\n    'name': 'Other friends',\n    'count': 0,\n    'items': []}]},\n 'tips': {'count': 237},\n 'homeCity': 'New York, NY',\n 'bio': 'https://www.tawil.team/nick-el-tawil/',\n 'contact': {},\n 'photos': {'count': 0, 'items': []},\n 'type': 'user',\n 'mayorships': {'count': 0, 'items': []},\n 'checkins': {'count': 1, 'items': []},\n 'lists': {'count': 2,\n  'groups': [{'type': 'created', 'count': 0, 'items': []},\n   {'type': 'followed', 'count': 0, 'items': []},\n   {'type': 'yours',\n    'count': 2,\n    'items': [{'id': '484542633/todos',\n      'name': \"Nick's Saved Places\",\n      'description': '',\n      'type': 'todos',\n      'editable': False,\n      'public': True,\n      'collaborative': False,\n      'url': '/nickeltawil/list/todos',\n      'canonicalUrl': 'https://foursquare.com/nickeltawil/list/todos',\n      'listItems': {'count': 0}},\n     {'id': '484542633/venuelikes',\n      'name': 'Nick\u2019s Liked Places',\n      'description': '',\n      'type': 'likes',\n      'editable': False,\n      'public': True,\n      'collaborative': False,\n      'url': '/nickeltawil/list/venuelikes',\n      'canonicalUrl': 'https://foursquare.com/nickeltawil/list/venuelikes',\n      'listItems': {'count': 0}}]}]},\n 'lenses': []}"
                    },
                    "execution_count": 39,
                    "metadata": {},
                    "output_type": "execute_result"
                }
            ],
            "source": "user_data"
        },
        {
            "cell_type": "code",
            "execution_count": 40,
            "metadata": {
                "button": false,
                "jupyter": {
                    "outputs_hidden": false
                },
                "new_sheet": false,
                "run_control": {
                    "read_only": false
                }
            },
            "outputs": [
                {
                    "data": {
                        "text/html": "<img src=\"https://igx.4sqi.net/img/user/300x300/484542633_mK2Yum7T_7Tn9fWpndidJsmw2Hof_6T5vJBKCHPLMK5OL-U5ZiJGj51iwBstcpDLYa3Zvhvis.jpg\"/>",
                        "text/plain": "<IPython.core.display.Image object>"
                    },
                    "execution_count": 40,
                    "metadata": {},
                    "output_type": "execute_result"
                }
            ],
            "source": "# 1. grab prefix of photo\n# 2. grab suffix of photo\n# 3. concatenate them using the image size  \nImage(url='https://igx.4sqi.net/img/user/300x300/484542633_mK2Yum7T_7Tn9fWpndidJsmw2Hof_6T5vJBKCHPLMK5OL-U5ZiJGj51iwBstcpDLYa3Zvhvis.jpg')"
        },
        {
            "cell_type": "markdown",
            "metadata": {
                "button": false,
                "new_sheet": false,
                "run_control": {
                    "read_only": false
                }
            },
            "source": "  "
        },
        {
            "cell_type": "markdown",
            "metadata": {
                "button": false,
                "new_sheet": false,
                "run_control": {
                    "read_only": false
                }
            },
            "source": "<a id=\"item4\"></a>"
        },
        {
            "cell_type": "markdown",
            "metadata": {
                "button": false,
                "new_sheet": false,
                "run_control": {
                    "read_only": false
                }
            },
            "source": "## 4. Explore a location\n> `https://api.foursquare.com/v2/venues/`**explore**`?client_id=`**CLIENT_ID**`&client_secret=`**CLIENT_SECRET**`&ll=`**LATITUDE**`,`**LONGITUDE**`&v=`**VERSION**`&limit=`**LIMIT**"
        },
        {
            "cell_type": "markdown",
            "metadata": {
                "button": false,
                "new_sheet": false,
                "run_control": {
                    "read_only": false
                }
            },
            "source": "#### So, you just finished your gourmet dish at Ecco, and are just curious about the popular spots around the restaurant. In order to explore the area, let's start by getting the latitude and longitude values of Ecco Restaurant."
        },
        {
            "cell_type": "code",
            "execution_count": 41,
            "metadata": {
                "button": false,
                "jupyter": {
                    "outputs_hidden": true
                },
                "new_sheet": false,
                "run_control": {
                    "read_only": false
                }
            },
            "outputs": [],
            "source": "latitude = 40.715337\nlongitude = -74.008848"
        },
        {
            "cell_type": "markdown",
            "metadata": {
                "button": false,
                "new_sheet": false,
                "run_control": {
                    "read_only": false
                }
            },
            "source": "#### Define URL"
        },
        {
            "cell_type": "code",
            "execution_count": 42,
            "metadata": {
                "button": false,
                "jupyter": {
                    "outputs_hidden": false
                },
                "new_sheet": false,
                "run_control": {
                    "read_only": false
                }
            },
            "outputs": [
                {
                    "data": {
                        "text/plain": "'https://api.foursquare.com/v2/venues/explore?client_id=OYNEO4YYLV5NRHJLCWAP0MXEGIWF5ELB0Q231ZG3MJTZ2ZZF&client_secret=B2A4ZW0ZVUAPSRRMCMDWEQUN3AKU4ZEN0YBSGQCIMXP5ASQI&ll=40.715337,-74.008848&v=20191118&radius=500&limit=30'"
                    },
                    "execution_count": 42,
                    "metadata": {},
                    "output_type": "execute_result"
                }
            ],
            "source": "url = 'https://api.foursquare.com/v2/venues/explore?client_id={}&client_secret={}&ll={},{}&v={}&radius={}&limit={}'.format(CLIENT_ID, CLIENT_SECRET, latitude, longitude, VERSION, radius, LIMIT)\nurl"
        },
        {
            "cell_type": "markdown",
            "metadata": {
                "button": false,
                "new_sheet": false,
                "run_control": {
                    "read_only": false
                }
            },
            "source": "#### Send GET request and examine results"
        },
        {
            "cell_type": "code",
            "execution_count": 43,
            "metadata": {
                "button": false,
                "jupyter": {
                    "outputs_hidden": true
                },
                "new_sheet": false,
                "run_control": {
                    "read_only": false
                }
            },
            "outputs": [],
            "source": "import requests"
        },
        {
            "cell_type": "code",
            "execution_count": 44,
            "metadata": {
                "button": false,
                "jupyter": {
                    "outputs_hidden": false
                },
                "new_sheet": false,
                "run_control": {
                    "read_only": false
                }
            },
            "outputs": [
                {
                    "data": {
                        "text/plain": "'There are 30 around Ecco restaurant.'"
                    },
                    "execution_count": 44,
                    "metadata": {},
                    "output_type": "execute_result"
                }
            ],
            "source": "results = requests.get(url).json()\n'There are {} around Ecco restaurant.'.format(len(results['response']['groups'][0]['items']))"
        },
        {
            "cell_type": "markdown",
            "metadata": {
                "button": false,
                "new_sheet": false,
                "run_control": {
                    "read_only": false
                }
            },
            "source": "#### Get relevant part of JSON"
        },
        {
            "cell_type": "code",
            "execution_count": 45,
            "metadata": {
                "button": false,
                "jupyter": {
                    "outputs_hidden": false
                },
                "new_sheet": false,
                "run_control": {
                    "read_only": false
                }
            },
            "outputs": [
                {
                    "data": {
                        "text/plain": "{'reasons': {'count': 0,\n  'items': [{'summary': 'This spot is popular',\n    'type': 'general',\n    'reasonName': 'globalInteractionReason'}]},\n 'venue': {'id': '4af5d65ff964a52091fd21e3',\n  'name': 'Korin',\n  'location': {'address': '57 Warren St',\n   'crossStreet': 'Church St',\n   'lat': 40.71482437714839,\n   'lng': -74.00940425461492,\n   'labeledLatLngs': [{'label': 'display',\n     'lat': 40.71482437714839,\n     'lng': -74.00940425461492}],\n   'distance': 73,\n   'postalCode': '10007',\n   'cc': 'US',\n   'neighborhood': 'Tribeca',\n   'city': 'New York',\n   'state': 'NY',\n   'country': 'United States',\n   'formattedAddress': ['57 Warren St (Church St)',\n    'New York, NY 10007',\n    'United States']},\n  'categories': [{'id': '4bf58dd8d48988d1f8941735',\n    'name': 'Furniture / Home Store',\n    'pluralName': 'Furniture / Home Stores',\n    'shortName': 'Furniture / Home',\n    'icon': {'prefix': 'https://ss3.4sqi.net/img/categories_v2/shops/furniture_',\n     'suffix': '.png'},\n    'primary': True}],\n  'photos': {'count': 0, 'groups': []},\n  'venuePage': {'id': '33104775'}},\n 'referralId': 'e-0-4af5d65ff964a52091fd21e3-0'}"
                    },
                    "execution_count": 45,
                    "metadata": {},
                    "output_type": "execute_result"
                }
            ],
            "source": "items = results['response']['groups'][0]['items']\nitems[0]"
        },
        {
            "cell_type": "markdown",
            "metadata": {
                "button": false,
                "new_sheet": false,
                "run_control": {
                    "read_only": false
                }
            },
            "source": "#### Process JSON and convert it to a clean dataframe"
        },
        {
            "cell_type": "code",
            "execution_count": 46,
            "metadata": {
                "button": false,
                "jupyter": {
                    "outputs_hidden": false
                },
                "new_sheet": false,
                "run_control": {
                    "read_only": false
                }
            },
            "outputs": [
                {
                    "data": {
                        "text/html": "<div>\n<style scoped>\n    .dataframe tbody tr th:only-of-type {\n        vertical-align: middle;\n    }\n\n    .dataframe tbody tr th {\n        vertical-align: top;\n    }\n\n    .dataframe thead th {\n        text-align: right;\n    }\n</style>\n<table border=\"1\" class=\"dataframe\">\n  <thead>\n    <tr style=\"text-align: right;\">\n      <th></th>\n      <th>name</th>\n      <th>categories</th>\n      <th>address</th>\n      <th>cc</th>\n      <th>city</th>\n      <th>country</th>\n      <th>crossStreet</th>\n      <th>distance</th>\n      <th>formattedAddress</th>\n      <th>labeledLatLngs</th>\n      <th>lat</th>\n      <th>lng</th>\n      <th>neighborhood</th>\n      <th>postalCode</th>\n      <th>state</th>\n      <th>id</th>\n    </tr>\n  </thead>\n  <tbody>\n    <tr>\n      <th>0</th>\n      <td>Korin</td>\n      <td>Furniture / Home Store</td>\n      <td>57 Warren St</td>\n      <td>US</td>\n      <td>New York</td>\n      <td>United States</td>\n      <td>Church St</td>\n      <td>73</td>\n      <td>[57 Warren St (Church St), New York, NY 10007, United States]</td>\n      <td>[{'label': 'display', 'lat': 40.71482437714839, 'lng': -74.00940425461492}]</td>\n      <td>40.714824</td>\n      <td>-74.009404</td>\n      <td>Tribeca</td>\n      <td>10007</td>\n      <td>NY</td>\n      <td>4af5d65ff964a52091fd21e3</td>\n    </tr>\n    <tr>\n      <th>1</th>\n      <td>Takahachi Bakery</td>\n      <td>Bakery</td>\n      <td>25 Murray St</td>\n      <td>US</td>\n      <td>New York</td>\n      <td>United States</td>\n      <td>at Church St</td>\n      <td>187</td>\n      <td>[25 Murray St (at Church St), New York, NY 10007, United States]</td>\n      <td>[{'label': 'display', 'lat': 40.713652845301894, 'lng': -74.0088038953017}]</td>\n      <td>40.713653</td>\n      <td>-74.008804</td>\n      <td>NaN</td>\n      <td>10007</td>\n      <td>NY</td>\n      <td>4c154c9a77cea593c401d260</td>\n    </tr>\n    <tr>\n      <th>2</th>\n      <td>Juice Press</td>\n      <td>Vegetarian / Vegan Restaurant</td>\n      <td>83 Murray St</td>\n      <td>US</td>\n      <td>New York</td>\n      <td>United States</td>\n      <td>btwn Greenwich St &amp; W Broadway</td>\n      <td>202</td>\n      <td>[83 Murray St (btwn Greenwich St &amp; W Broadway), New York, NY 10007, United States]</td>\n      <td>[{'label': 'display', 'lat': 40.71478769908051, 'lng': -74.0111317502157}]</td>\n      <td>40.714788</td>\n      <td>-74.011132</td>\n      <td>NaN</td>\n      <td>10007</td>\n      <td>NY</td>\n      <td>54148bc6498ea7bb8c05b70a</td>\n    </tr>\n    <tr>\n      <th>3</th>\n      <td>Los Tacos No. 1</td>\n      <td>Taco Place</td>\n      <td>136 Church St</td>\n      <td>US</td>\n      <td>New York</td>\n      <td>United States</td>\n      <td>NaN</td>\n      <td>130</td>\n      <td>[136 Church St, New York, NY 10007, United States]</td>\n      <td>[{'label': 'display', 'lat': 40.71417, 'lng': -74.00866}]</td>\n      <td>40.714170</td>\n      <td>-74.008660</td>\n      <td>NaN</td>\n      <td>10007</td>\n      <td>NY</td>\n      <td>5d5f24ec09484500079aee00</td>\n    </tr>\n    <tr>\n      <th>4</th>\n      <td>Chambers Street Wines</td>\n      <td>Wine Shop</td>\n      <td>148 Chambers St</td>\n      <td>US</td>\n      <td>New York</td>\n      <td>United States</td>\n      <td>btwn West Broadway &amp; Hudson St</td>\n      <td>88</td>\n      <td>[148 Chambers St (btwn West Broadway &amp; Hudson St), New York, NY 10007, United States]</td>\n      <td>[{'label': 'display', 'lat': 40.715773063928374, 'lng': -74.00971823312332}]</td>\n      <td>40.715773</td>\n      <td>-74.009718</td>\n      <td>NaN</td>\n      <td>10007</td>\n      <td>NY</td>\n      <td>4adcf23cf964a520cc6221e3</td>\n    </tr>\n    <tr>\n      <th>5</th>\n      <td>Takahachi</td>\n      <td>Sushi Restaurant</td>\n      <td>145 Duane St</td>\n      <td>US</td>\n      <td>New York</td>\n      <td>United States</td>\n      <td>btwn W Broadway &amp; Church St</td>\n      <td>146</td>\n      <td>[145 Duane St (btwn W Broadway &amp; Church St), New York, NY 10013, United States]</td>\n      <td>[{'label': 'display', 'lat': 40.71652647412374, 'lng': -74.00810108466207}]</td>\n      <td>40.716526</td>\n      <td>-74.008101</td>\n      <td>NaN</td>\n      <td>10013</td>\n      <td>NY</td>\n      <td>4a8f2f39f964a520471420e3</td>\n    </tr>\n    <tr>\n      <th>6</th>\n      <td>Heyday</td>\n      <td>Spa</td>\n      <td>92 Reade St</td>\n      <td>US</td>\n      <td>New York</td>\n      <td>United States</td>\n      <td>NaN</td>\n      <td>86</td>\n      <td>[92 Reade St, New York, NY 10013, United States]</td>\n      <td>[{'label': 'display', 'lat': 40.715598486687675, 'lng': -74.00788227511288}]</td>\n      <td>40.715598</td>\n      <td>-74.007882</td>\n      <td>NaN</td>\n      <td>10013</td>\n      <td>NY</td>\n      <td>57ad129c498e05b086594d72</td>\n    </tr>\n    <tr>\n      <th>7</th>\n      <td>Nish N\u016bsh</td>\n      <td>Falafel Restaurant</td>\n      <td>88 Reade St</td>\n      <td>US</td>\n      <td>New York</td>\n      <td>United States</td>\n      <td>at Church St</td>\n      <td>97</td>\n      <td>[88 Reade St (at Church St), New York, NY 10013, United States]</td>\n      <td>[{'label': 'display', 'lat': 40.71553710116416, 'lng': -74.00772452925565}]</td>\n      <td>40.715537</td>\n      <td>-74.007725</td>\n      <td>NaN</td>\n      <td>10013</td>\n      <td>NY</td>\n      <td>50ba9119e4b071a4bae6dc10</td>\n    </tr>\n    <tr>\n      <th>8</th>\n      <td>Equinox Tribeca</td>\n      <td>Gym</td>\n      <td>54 Murray Street</td>\n      <td>US</td>\n      <td>New York</td>\n      <td>United States</td>\n      <td>at W Broadway</td>\n      <td>154</td>\n      <td>[54 Murray Street (at W Broadway), New York, NY 10007, United States]</td>\n      <td>[{'label': 'display', 'lat': 40.71409860726041, 'lng': -74.0096857179283}]</td>\n      <td>40.714099</td>\n      <td>-74.009686</td>\n      <td>NaN</td>\n      <td>10007</td>\n      <td>NY</td>\n      <td>4a6e331af964a52031d41fe3</td>\n    </tr>\n    <tr>\n      <th>9</th>\n      <td>Whole Foods Market</td>\n      <td>Grocery Store</td>\n      <td>270 Greenwich Street</td>\n      <td>US</td>\n      <td>New York</td>\n      <td>United States</td>\n      <td>at Warren St</td>\n      <td>214</td>\n      <td>[270 Greenwich Street (at Warren St), New York, NY 10007, United States]</td>\n      <td>[{'label': 'display', 'lat': 40.715579155420606, 'lng': -74.01136823958119}]</td>\n      <td>40.715579</td>\n      <td>-74.011368</td>\n      <td>Tribeca</td>\n      <td>10007</td>\n      <td>NY</td>\n      <td>49bc3b0af964a52020541fe3</td>\n    </tr>\n  </tbody>\n</table>\n</div>",
                        "text/plain": "                    name                     categories               address  \\\n0  Korin                  Furniture / Home Store         57 Warren St           \n1  Takahachi Bakery       Bakery                         25 Murray St           \n2  Juice Press            Vegetarian / Vegan Restaurant  83 Murray St           \n3  Los Tacos No. 1        Taco Place                     136 Church St          \n4  Chambers Street Wines  Wine Shop                      148 Chambers St        \n5  Takahachi              Sushi Restaurant               145 Duane St           \n6  Heyday                 Spa                            92 Reade St            \n7  Nish N\u016bsh              Falafel Restaurant             88 Reade St            \n8  Equinox Tribeca        Gym                            54 Murray Street       \n9  Whole Foods Market     Grocery Store                  270 Greenwich Street   \n\n   cc      city        country                     crossStreet  distance  \\\n0  US  New York  United States  Church St                       73         \n1  US  New York  United States  at Church St                    187        \n2  US  New York  United States  btwn Greenwich St & W Broadway  202        \n3  US  New York  United States  NaN                             130        \n4  US  New York  United States  btwn West Broadway & Hudson St  88         \n5  US  New York  United States  btwn W Broadway & Church St     146        \n6  US  New York  United States  NaN                             86         \n7  US  New York  United States  at Church St                    97         \n8  US  New York  United States  at W Broadway                   154        \n9  US  New York  United States  at Warren St                    214        \n\n                                                                        formattedAddress  \\\n0  [57 Warren St (Church St), New York, NY 10007, United States]                           \n1  [25 Murray St (at Church St), New York, NY 10007, United States]                        \n2  [83 Murray St (btwn Greenwich St & W Broadway), New York, NY 10007, United States]      \n3  [136 Church St, New York, NY 10007, United States]                                      \n4  [148 Chambers St (btwn West Broadway & Hudson St), New York, NY 10007, United States]   \n5  [145 Duane St (btwn W Broadway & Church St), New York, NY 10013, United States]         \n6  [92 Reade St, New York, NY 10013, United States]                                        \n7  [88 Reade St (at Church St), New York, NY 10013, United States]                         \n8  [54 Murray Street (at W Broadway), New York, NY 10007, United States]                   \n9  [270 Greenwich Street (at Warren St), New York, NY 10007, United States]                \n\n                                                                 labeledLatLngs  \\\n0  [{'label': 'display', 'lat': 40.71482437714839, 'lng': -74.00940425461492}]    \n1  [{'label': 'display', 'lat': 40.713652845301894, 'lng': -74.0088038953017}]    \n2  [{'label': 'display', 'lat': 40.71478769908051, 'lng': -74.0111317502157}]     \n3  [{'label': 'display', 'lat': 40.71417, 'lng': -74.00866}]                      \n4  [{'label': 'display', 'lat': 40.715773063928374, 'lng': -74.00971823312332}]   \n5  [{'label': 'display', 'lat': 40.71652647412374, 'lng': -74.00810108466207}]    \n6  [{'label': 'display', 'lat': 40.715598486687675, 'lng': -74.00788227511288}]   \n7  [{'label': 'display', 'lat': 40.71553710116416, 'lng': -74.00772452925565}]    \n8  [{'label': 'display', 'lat': 40.71409860726041, 'lng': -74.0096857179283}]     \n9  [{'label': 'display', 'lat': 40.715579155420606, 'lng': -74.01136823958119}]   \n\n         lat        lng neighborhood postalCode state  \\\n0  40.714824 -74.009404  Tribeca      10007      NY     \n1  40.713653 -74.008804  NaN          10007      NY     \n2  40.714788 -74.011132  NaN          10007      NY     \n3  40.714170 -74.008660  NaN          10007      NY     \n4  40.715773 -74.009718  NaN          10007      NY     \n5  40.716526 -74.008101  NaN          10013      NY     \n6  40.715598 -74.007882  NaN          10013      NY     \n7  40.715537 -74.007725  NaN          10013      NY     \n8  40.714099 -74.009686  NaN          10007      NY     \n9  40.715579 -74.011368  Tribeca      10007      NY     \n\n                         id  \n0  4af5d65ff964a52091fd21e3  \n1  4c154c9a77cea593c401d260  \n2  54148bc6498ea7bb8c05b70a  \n3  5d5f24ec09484500079aee00  \n4  4adcf23cf964a520cc6221e3  \n5  4a8f2f39f964a520471420e3  \n6  57ad129c498e05b086594d72  \n7  50ba9119e4b071a4bae6dc10  \n8  4a6e331af964a52031d41fe3  \n9  49bc3b0af964a52020541fe3  "
                    },
                    "execution_count": 46,
                    "metadata": {},
                    "output_type": "execute_result"
                }
            ],
            "source": "dataframe = json_normalize(items) # flatten JSON\n\n# filter columns\nfiltered_columns = ['venue.name', 'venue.categories'] + [col for col in dataframe.columns if col.startswith('venue.location.')] + ['venue.id']\ndataframe_filtered = dataframe.loc[:, filtered_columns]\n\n# filter the category for each row\ndataframe_filtered['venue.categories'] = dataframe_filtered.apply(get_category_type, axis=1)\n\n# clean columns\ndataframe_filtered.columns = [col.split('.')[-1] for col in dataframe_filtered.columns]\n\ndataframe_filtered.head(10)"
        },
        {
            "cell_type": "markdown",
            "metadata": {
                "button": false,
                "new_sheet": false,
                "run_control": {
                    "read_only": false
                }
            },
            "source": "#### Let's visualize these items on the map around our location"
        },
        {
            "cell_type": "code",
            "execution_count": 48,
            "metadata": {
                "button": false,
                "jupyter": {
                    "outputs_hidden": false
                },
                "new_sheet": false,
                "run_control": {
                    "read_only": false
                }
            },
            "outputs": [
                {
                    "data": {
                        "text/html": "<div style=\"width:100%;\"><div style=\"position:relative;width:100%;height:0;padding-bottom:60%;\"><iframe src=\"data:text/html;charset=utf-8;base64,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\" style=\"position:absolute;width:100%;height:100%;left:0;top:0;border:none !important;\" allowfullscreen webkitallowfullscreen mozallowfullscreen></iframe></div></div>",
                        "text/plain": "<folium.folium.Map at 0x137b668eb00>"
                    },
                    "execution_count": 48,
                    "metadata": {},
                    "output_type": "execute_result"
                }
            ],
            "source": "venues_map = folium.Map(location=[latitude, longitude], zoom_start=15) # generate map centred around Ecco\n\n\n# add Ecco as a red circle mark\nfolium.CircleMarker(\n    [latitude, longitude],\n    radius=10,\n    popup='Ecco',\n    fill=True,\n    color='red',\n    fill_color='red',\n    fill_opacity=0.6\n    ).add_to(venues_map)\n\n\n# add popular spots to the map as blue circle markers\nfor lat, lng, label in zip(dataframe_filtered.lat, dataframe_filtered.lng, dataframe_filtered.categories):\n    folium.CircleMarker(\n        [lat, lng],\n        radius=5,\n        popup=label,\n        fill=True,\n        color='blue',\n        fill_color='blue',\n        fill_opacity=0.6\n        ).add_to(venues_map)\n\n# display map\nvenues_map"
        },
        {
            "cell_type": "markdown",
            "metadata": {
                "button": false,
                "new_sheet": false,
                "run_control": {
                    "read_only": false
                }
            },
            "source": "   "
        },
        {
            "cell_type": "markdown",
            "metadata": {
                "button": false,
                "new_sheet": false,
                "run_control": {
                    "read_only": false
                }
            },
            "source": "<a id=\"item5\"></a>"
        },
        {
            "cell_type": "markdown",
            "metadata": {
                "button": false,
                "new_sheet": false,
                "run_control": {
                    "read_only": false
                }
            },
            "source": "## 5. Explore Trending Venues\n> `https://api.foursquare.com/v2/venues/`**trending**`?client_id=`**CLIENT_ID**`&client_secret=`**CLIENT_SECRET**`&ll=`**LATITUDE**`,`**LONGITUDE**`&v=`**VERSION**"
        },
        {
            "cell_type": "markdown",
            "metadata": {
                "button": false,
                "new_sheet": false,
                "run_control": {
                    "read_only": false
                }
            },
            "source": "#### Now, instead of simply exploring the area around Ecco, you are interested in knowing the venues that are trending at the time you are done with your lunch, meaning the places with the highest foot traffic. So let's do that and get the trending venues around Ecco."
        },
        {
            "cell_type": "code",
            "execution_count": 49,
            "metadata": {
                "button": false,
                "jupyter": {
                    "outputs_hidden": false
                },
                "new_sheet": false,
                "run_control": {
                    "read_only": false
                }
            },
            "outputs": [
                {
                    "data": {
                        "text/plain": "{'meta': {'code': 200, 'requestId': '5dd2d8be6001fe001b4fde4f'},\n 'response': {'venues': [{'id': '556f1907498e447c7846e717',\n    'name': 'Able',\n    'location': {'address': '41 Union Sq W',\n     'crossStreet': 'Suite 301',\n     'lat': 40.725295224000945,\n     'lng': -73.99633486134184,\n     'labeledLatLngs': [{'label': 'display',\n       'lat': 40.725295224000945,\n       'lng': -73.99633486134184}],\n     'distance': 1530,\n     'postalCode': '10003',\n     'cc': 'US',\n     'neighborhood': 'Union Square',\n     'city': 'New York',\n     'state': 'NY',\n     'country': 'United States',\n     'formattedAddress': ['41 Union Sq W (Suite 301)',\n      'New York, NY 10003',\n      'United States']},\n    'categories': [{'id': '4bf58dd8d48988d124941735',\n      'name': 'Office',\n      'pluralName': 'Offices',\n      'shortName': 'Office',\n      'icon': {'prefix': 'https://ss3.4sqi.net/img/categories_v2/building/default_',\n       'suffix': '.png'},\n      'primary': True}]}]}}"
                    },
                    "execution_count": 49,
                    "metadata": {},
                    "output_type": "execute_result"
                }
            ],
            "source": "# define URL\nurl = 'https://api.foursquare.com/v2/venues/trending?client_id={}&client_secret={}&ll={},{}&v={}'.format(CLIENT_ID, CLIENT_SECRET, latitude, longitude, VERSION)\n\n# send GET request and get trending venues\nresults = requests.get(url).json()\nresults"
        },
        {
            "cell_type": "markdown",
            "metadata": {
                "button": false,
                "new_sheet": false,
                "run_control": {
                    "read_only": false
                }
            },
            "source": "### Check if any venues are trending at this time"
        },
        {
            "cell_type": "code",
            "execution_count": 50,
            "metadata": {
                "button": false,
                "jupyter": {
                    "outputs_hidden": true
                },
                "new_sheet": false,
                "run_control": {
                    "read_only": false
                }
            },
            "outputs": [],
            "source": "if len(results['response']['venues']) == 0:\n    trending_venues_df = 'No trending venues are available at the moment!'\n    \nelse:\n    trending_venues = results['response']['venues']\n    trending_venues_df = json_normalize(trending_venues)\n\n    # filter columns\n    columns_filtered = ['name', 'categories'] + ['location.distance', 'location.city', 'location.postalCode', 'location.state', 'location.country', 'location.lat', 'location.lng']\n    trending_venues_df = trending_venues_df.loc[:, columns_filtered]\n\n    # filter the category for each row\n    trending_venues_df['categories'] = trending_venues_df.apply(get_category_type, axis=1)"
        },
        {
            "cell_type": "code",
            "execution_count": 51,
            "metadata": {
                "button": false,
                "jupyter": {
                    "outputs_hidden": false
                },
                "new_sheet": false,
                "run_control": {
                    "read_only": false
                }
            },
            "outputs": [
                {
                    "data": {
                        "text/html": "<div>\n<style scoped>\n    .dataframe tbody tr th:only-of-type {\n        vertical-align: middle;\n    }\n\n    .dataframe tbody tr th {\n        vertical-align: top;\n    }\n\n    .dataframe thead th {\n        text-align: right;\n    }\n</style>\n<table border=\"1\" class=\"dataframe\">\n  <thead>\n    <tr style=\"text-align: right;\">\n      <th></th>\n      <th>name</th>\n      <th>categories</th>\n      <th>location.distance</th>\n      <th>location.city</th>\n      <th>location.postalCode</th>\n      <th>location.state</th>\n      <th>location.country</th>\n      <th>location.lat</th>\n      <th>location.lng</th>\n    </tr>\n  </thead>\n  <tbody>\n    <tr>\n      <th>0</th>\n      <td>Able</td>\n      <td>Office</td>\n      <td>1530</td>\n      <td>New York</td>\n      <td>10003</td>\n      <td>NY</td>\n      <td>United States</td>\n      <td>40.725295</td>\n      <td>-73.996335</td>\n    </tr>\n  </tbody>\n</table>\n</div>",
                        "text/plain": "   name categories  location.distance location.city location.postalCode  \\\n0  Able  Office     1530               New York      10003                \n\n  location.state location.country  location.lat  location.lng  \n0  NY             United States    40.725295    -73.996335     "
                    },
                    "execution_count": 51,
                    "metadata": {},
                    "output_type": "execute_result"
                }
            ],
            "source": "# display trending venues\ntrending_venues_df"
        },
        {
            "cell_type": "markdown",
            "metadata": {
                "button": false,
                "new_sheet": false,
                "run_control": {
                    "read_only": false
                }
            },
            "source": "Now, depending on when you run the above code, you might get different venues since the venues with the highest foot traffic are fetched live. "
        },
        {
            "cell_type": "markdown",
            "metadata": {
                "button": false,
                "new_sheet": false,
                "run_control": {
                    "read_only": false
                }
            },
            "source": "### Visualize trending venues"
        },
        {
            "cell_type": "code",
            "execution_count": 52,
            "metadata": {
                "button": false,
                "jupyter": {
                    "outputs_hidden": false
                },
                "new_sheet": false,
                "run_control": {
                    "read_only": false
                }
            },
            "outputs": [
                {
                    "ename": "AttributeError",
                    "evalue": "module 'folium.features' has no attribute 'CircleMarker'",
                    "output_type": "error",
                    "traceback": [
                        "\u001b[1;31m---------------------------------------------------------------------------\u001b[0m",
                        "\u001b[1;31mAttributeError\u001b[0m                            Traceback (most recent call last)",
                        "\u001b[1;32m<ipython-input-52-1025b1e2aad2>\u001b[0m in \u001b[0;36m<module>\u001b[1;34m\u001b[0m\n\u001b[0;32m      7\u001b[0m \u001b[1;33m\u001b[0m\u001b[0m\n\u001b[0;32m      8\u001b[0m     \u001b[1;31m# add Ecco as a red circle mark\u001b[0m\u001b[1;33m\u001b[0m\u001b[1;33m\u001b[0m\u001b[1;33m\u001b[0m\u001b[0m\n\u001b[1;32m----> 9\u001b[1;33m     folium.features.CircleMarker(\n\u001b[0m\u001b[0;32m     10\u001b[0m         \u001b[1;33m[\u001b[0m\u001b[0mlatitude\u001b[0m\u001b[1;33m,\u001b[0m \u001b[0mlongitude\u001b[0m\u001b[1;33m]\u001b[0m\u001b[1;33m,\u001b[0m\u001b[1;33m\u001b[0m\u001b[1;33m\u001b[0m\u001b[0m\n\u001b[0;32m     11\u001b[0m         \u001b[0mradius\u001b[0m\u001b[1;33m=\u001b[0m\u001b[1;36m10\u001b[0m\u001b[1;33m,\u001b[0m\u001b[1;33m\u001b[0m\u001b[1;33m\u001b[0m\u001b[0m\n",
                        "\u001b[1;31mAttributeError\u001b[0m: module 'folium.features' has no attribute 'CircleMarker'"
                    ]
                }
            ],
            "source": "if len(results['response']['venues']) == 0:\n    venues_map = 'Cannot generate visual as no trending venues are available at the moment!'\n\nelse:\n    venues_map = folium.Map(location=[latitude, longitude], zoom_start=15) # generate map centred around Ecco\n\n\n    # add Ecco as a red circle mark\n    folium.features.CircleMarker(\n        [latitude, longitude],\n        radius=10,\n        popup='Ecco',\n        fill=True,\n        color='red',\n        fill_color='red',\n        fill_opacity=0.6\n    ).add_to(venues_map)\n\n\n    # add the trending venues as blue circle markers\n    for lat, lng, label in zip(trending_venues_df['location.lat'], trending_venues_df['location.lng'], trending_venues_df['name']):\n        folium.features.CircleMarker(\n            [lat, lng],\n            radius=5,\n            poup=label,\n            fill=True,\n            color='blue',\n            fill_color='blue',\n            fill_opacity=0.6\n        ).add_to(venues_map)"
        },
        {
            "cell_type": "code",
            "execution_count": 53,
            "metadata": {
                "button": false,
                "jupyter": {
                    "outputs_hidden": false
                },
                "new_sheet": false,
                "run_control": {
                    "read_only": false
                }
            },
            "outputs": [
                {
                    "data": {
                        "text/html": "<div style=\"width:100%;\"><div style=\"position:relative;width:100%;height:0;padding-bottom:60%;\"><iframe src=\"data:text/html;charset=utf-8;base64,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\" style=\"position:absolute;width:100%;height:100%;left:0;top:0;border:none !important;\" allowfullscreen webkitallowfullscreen mozallowfullscreen></iframe></div></div>",
                        "text/plain": "<folium.folium.Map at 0x137b6b60390>"
                    },
                    "execution_count": 53,
                    "metadata": {},
                    "output_type": "execute_result"
                }
            ],
            "source": "# display map\nvenues_map"
        },
        {
            "cell_type": "markdown",
            "metadata": {
                "button": false,
                "new_sheet": false,
                "run_control": {
                    "read_only": false
                }
            },
            "source": "<a id=\"item6\"></a>"
        },
        {
            "cell_type": "markdown",
            "metadata": {
                "button": false,
                "new_sheet": false,
                "run_control": {
                    "read_only": false
                }
            },
            "source": "   "
        },
        {
            "cell_type": "markdown",
            "metadata": {
                "button": false,
                "new_sheet": false,
                "run_control": {
                    "read_only": false
                }
            },
            "source": "### Thank you for completing this lab!\n\nThis notebook was created by [keshav mor] I hope you found this lab interesting and educational. Feel free to contact me if you have any questions!"
        },
        {
            "cell_type": "markdown",
            "metadata": {
                "button": false,
                "new_sheet": false,
                "run_control": {
                    "read_only": false
                }
            },
            "source": "This notebook is part of a course on **Coursera** called *Applied Data Science Capstone*. If you accessed this notebook outside the course, you can take this course online by clicking [here](http://cocl.us/DP0701EN_Coursera_Week2_LAB1)."
        },
        {
            "cell_type": "markdown",
            "metadata": {
                "button": false,
                "new_sheet": false,
                "run_control": {
                    "read_only": false
                }
            },
            "source": "<hr>\nCopyright &copy; 2018 [Cognitive Class](https://cognitiveclass.ai/?utm_source=bducopyrightlink&utm_medium=dswb&utm_campaign=bdu). This notebook and its source code are released under the terms of the [MIT License](https://bigdatauniversity.com/mit-license/)."
        }
    ],
    "metadata": {
        "kernelspec": {
            "display_name": "Python 3.6",
            "language": "python",
            "name": "python3"
        },
        "language_info": {
            "codemirror_mode": {
                "name": "ipython",
                "version": 3
            },
            "file_extension": ".py",
            "mimetype": "text/x-python",
            "name": "python",
            "nbconvert_exporter": "python",
            "pygments_lexer": "ipython3",
            "version": "3.6.8"
        },
        "widgets": {
            "state": {},
            "version": "1.1.2"
        }
    },
    "nbformat": 4,
    "nbformat_minor": 4
}